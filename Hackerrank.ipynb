{
  "nbformat": 4,
  "nbformat_minor": 0,
  "metadata": {
    "colab": {
      "provenance": [],
      "authorship_tag": "ABX9TyOohDeVdILJGBqv94vpnbzT",
      "include_colab_link": true
    },
    "kernelspec": {
      "name": "python3",
      "display_name": "Python 3"
    },
    "language_info": {
      "name": "python"
    }
  },
  "cells": [
    {
      "cell_type": "markdown",
      "metadata": {
        "id": "view-in-github",
        "colab_type": "text"
      },
      "source": [
        "<a href=\"https://colab.research.google.com/github/naufalnashif/problem-solving/blob/main/Hackerrank.ipynb\" target=\"_parent\"><img src=\"https://colab.research.google.com/assets/colab-badge.svg\" alt=\"Open In Colab\"/></a>"
      ]
    },
    {
      "cell_type": "markdown",
      "source": [
        "## Hackerrank & Any Cases Solutions"
      ],
      "metadata": {
        "id": "1AjJ8YLJlP-B"
      }
    },
    {
      "cell_type": "markdown",
      "source": [
        "### Case 1"
      ],
      "metadata": {
        "id": "rDALXfbh0qHm"
      }
    },
    {
      "cell_type": "code",
      "execution_count": null,
      "metadata": {
        "colab": {
          "base_uri": "https://localhost:8080/"
        },
        "id": "zKkWQGjl2G0D",
        "outputId": "f875797b-cf2a-40cc-be0f-fcc4d6f02d85"
      },
      "outputs": [
        {
          "output_type": "stream",
          "name": "stdout",
          "text": [
            "[[0, 0, 0], [0, 0, 1], [0, 1, 0], [1, 0, 0], [1, 1, 1]]\n"
          ]
        }
      ],
      "source": [
        "def koordinates(x,y,z,n):\n",
        "    results = []\n",
        "    for i in range(x+1):\n",
        "        for j in range(y+1):\n",
        "            for k in range (z+1):\n",
        "                if i+j+k != n:\n",
        "                    coordinate = [i,j,k]\n",
        "                    results.append(coordinate)\n",
        "    print(results)\n",
        "\n",
        "koordinates(1,1,1,2)"
      ]
    },
    {
      "cell_type": "code",
      "source": [
        " def koordinates(x,y,z,n):\n",
        "     results = [[i,j,k] for i in range(x+1) for j in range(y+1) for k in range (z+1) if i+j+k != n]\n",
        "     print(results)\n",
        "koordinates(1,1,1,2)"
      ],
      "metadata": {
        "colab": {
          "base_uri": "https://localhost:8080/"
        },
        "id": "iXc43YBa5Sw1",
        "outputId": "c903a252-9718-40b1-de09-48905132a9a4"
      },
      "execution_count": null,
      "outputs": [
        {
          "output_type": "stream",
          "name": "stdout",
          "text": [
            "[[0, 0, 0], [0, 0, 1], [0, 1, 0], [1, 0, 0], [1, 1, 1]]\n"
          ]
        }
      ]
    },
    {
      "cell_type": "markdown",
      "source": [
        "### Case 2"
      ],
      "metadata": {
        "id": "EUF77Ph80tLX"
      }
    },
    {
      "cell_type": "code",
      "source": [
        "if __name__ == '__main__':\n",
        "    listScore = [37.21, 37.21, 37.2, 41, 39]\n",
        "    nestedLists = [['Harry', 37.21], ['Berry', 37.21], ['Tina', 37.2], ['Akriti', 41], ['Harsh', 39]]\n",
        "    nestedLists.append([name,score])\n",
        "\n",
        "    listScore = sorted(set(listScore))\n",
        "    nestedLists.sort(key = lambda x: x[1])\n",
        "\n",
        "    secLowScore = listScore[1]\n",
        "    resultsName = [item[0] for item in nestedLists if item[1]==secLowScore]\n",
        "\n",
        "    for x in sorted(resultsName):\n",
        "        print(x)"
      ],
      "metadata": {
        "colab": {
          "base_uri": "https://localhost:8080/"
        },
        "id": "REOJj6r4AUUR",
        "outputId": "ac40434b-19a9-401e-9070-8ab3a5c36a45"
      },
      "execution_count": null,
      "outputs": [
        {
          "output_type": "stream",
          "name": "stdout",
          "text": [
            "Berry\n",
            "Harry\n"
          ]
        }
      ]
    },
    {
      "cell_type": "code",
      "source": [
        "if __name__ == '__main__':\n",
        "    nestedLists = []\n",
        "    listScore = []\n",
        "    for _ in range(int(input())):\n",
        "        name = input()\n",
        "        score = float(input())\n",
        "        listScore.append(score)\n",
        "        nestedLists.append([name,score])\n",
        "\n",
        "    listScore = sorted(set(listScore))\n",
        "    nestedLists.sort(key = lambda x: x[1])\n",
        "\n",
        "    secLowScore = listScore[1]\n",
        "    resultsName = [item[0] for item in nestedLists if item[1]==secLowScore]\n",
        "\n",
        "    for x in sorted(resultsName):\n",
        "        print(x)"
      ],
      "metadata": {
        "id": "v3AFKOPIHx0f"
      },
      "execution_count": null,
      "outputs": []
    },
    {
      "cell_type": "markdown",
      "source": [
        "### Case 3 Swapcase"
      ],
      "metadata": {
        "id": "gvQpSx_X0vzM"
      }
    },
    {
      "cell_type": "code",
      "source": [
        "contohKata = \"lowerUPPER\"\n",
        "# contohKata = contohKata.split(\" \")\n",
        "\n",
        "# def lowerUpper(kata):\n",
        "#   hurufLower = []\n",
        "#   hurufUpper = []\n",
        "\n",
        "#   for huruf in kata:\n",
        "#     if huruf.islower():\n",
        "#       hurufLower.append(huruf)\n",
        "#     elif huruf.isupper():\n",
        "#       hurufUpper.append(huruf)\n",
        "\n",
        "#   return hurufLower, hurufUpper\n",
        "\n",
        "\n",
        "def swapCase(kata):\n",
        "  results = \"\"\n",
        "\n",
        "  for huruf in kata:\n",
        "    if huruf.islower():\n",
        "      results += huruf.upper()\n",
        "    elif huruf.isupper():\n",
        "      results += huruf.lower()\n",
        "    else :\n",
        "      results += huruf\n",
        "\n",
        "  return results\n",
        "\n",
        "\n",
        "if __name__ == \"__main__\":\n",
        "  results = swapCase(contohKata)\n",
        "  print(results)"
      ],
      "metadata": {
        "colab": {
          "base_uri": "https://localhost:8080/"
        },
        "id": "LepqKDQPPhF_",
        "outputId": "89e246bd-c9e6-49f8-e8fe-89b433582195"
      },
      "execution_count": null,
      "outputs": [
        {
          "output_type": "stream",
          "name": "stdout",
          "text": [
            "LOWERupper\n"
          ]
        }
      ]
    },
    {
      "cell_type": "markdown",
      "source": [
        "###Case 4 Pop, Sort, Reverse"
      ],
      "metadata": {
        "id": "zYqIAXa10yAl"
      }
    },
    {
      "cell_type": "code",
      "source": [
        "if __name__ == '__main__':\n",
        "    N = int(input())\n",
        "    myList = []\n",
        "\n",
        "    for _ in range(N):\n",
        "        perintah = input().split()\n",
        "        if perintah[0] == \"insert\":\n",
        "            insertIndex = int(perintah[1])\n",
        "            insertValue = int(perintah[2])\n",
        "            myList.insert(insertIndex, insertValue)\n",
        "        elif perintah[0] == \"remove\":\n",
        "            removeValue = int(perintah[1])\n",
        "            myList.remove(removeValue)\n",
        "        elif perintah[0] == \"append\":\n",
        "            appendValue = int(perintah[1])\n",
        "            myList.append(appendValue)\n",
        "        elif perintah[0] == \"sort\":\n",
        "            myList.sort()\n",
        "        elif perintah[0] == \"pop\":\n",
        "            myList.pop()\n",
        "        elif perintah[0] == \"reverse\":\n",
        "            myList.reverse()\n",
        "        elif perintah[0] == \"print\":\n",
        "            print(myList)\n"
      ],
      "metadata": {
        "id": "7wgxZFWBv3Hf"
      },
      "execution_count": null,
      "outputs": []
    },
    {
      "cell_type": "markdown",
      "source": [
        "### Case 5; Fibonacci & Prime number"
      ],
      "metadata": {
        "id": "Sq5bq_Y100iv"
      }
    },
    {
      "cell_type": "code",
      "source": [
        "\n",
        "#Buat bilangan prima antara a - b (inclusive)\n",
        "def seriesGenerator():\n",
        "    a = int(input(\"Masukkan antara (start):\"))\n",
        "    b = int(input(\"Masukkan antara (end):\"))\n",
        "\n",
        "    # Generate a range number\n",
        "    numbs = range(a, b+1)\n",
        "\n",
        "    def primeNumbs(numb): #numb is a number in list. With filter() it can be iterate all number in list\n",
        "        for x in range (2, numb):\n",
        "            if (numb%x) == 0: #konsepnya adalah jika angka dalam var Numbs diiterate atau diambil satu persatu. Misal 7 maka akan dibagi dari angka 1, 2, ..., 6. Jika tidak bisa dibagi maka bilangan prima\n",
        "                return False\n",
        "        return True\n",
        "\n",
        "    def fibonacciNumbs(numb):\n",
        "        fib = [0, 1]\n",
        "        while fib[-1] <= numb: #cek apakah number yang diberikan lebih dari last number in list\n",
        "            fib.append(fib[-1] + fib[-2]) #jika benar maka tambahkan last number dan second last number dan akan masuk looping sampai kondisi last number <= numb tidak terpenuhi\n",
        "        return numb in fib\n",
        "\n",
        "    primes = list(filter(primeNumbs, numbs))\n",
        "    fibonacci = list(filter(fibonacciNumbs, numbs))\n",
        "    return primes, fibonacci\n",
        "\n",
        "if __name__ == \"__main__\":\n",
        "    primes, fibonacci = seriesGenerator()\n",
        "    print(f'List bilangan prima: \\n{primes}')\n",
        "    print(f'List bilangan fibonacci: \\n{fibonacci}')"
      ],
      "metadata": {
        "colab": {
          "base_uri": "https://localhost:8080/"
        },
        "id": "3J95xYVnv6xr",
        "outputId": "a2dfe40d-b397-4d63-893d-3dbe5acf9c35"
      },
      "execution_count": null,
      "outputs": [
        {
          "output_type": "stream",
          "name": "stdout",
          "text": [
            "Masukkan antara (start):0\n",
            "Masukkan antara (end):1\n",
            "List bilangan prima: \n",
            "[0, 1]\n",
            "List bilangan fibonacci: \n",
            "[0, 1]\n"
          ]
        }
      ]
    },
    {
      "cell_type": "code",
      "source": [
        "numb = 1\n",
        "def fibonacciNumbs(numb):\n",
        "    fib = [0, 1]\n",
        "    while fib[-1] <= numb: #cek apakah number yang diberikan lebih dari last number in list\n",
        "        fib.append(fib[-1] + fib[-2]) #jika benar maka tambahkan last number dan second last number dan akan masuk looping sampai kondisi last number <= numb tidak terpenuhi\n",
        "    print(numb in fib) #output berupa true or false\n",
        "\n",
        "fibonacciNumbs(numb)"
      ],
      "metadata": {
        "colab": {
          "base_uri": "https://localhost:8080/"
        },
        "id": "mWvCKhC82Mwp",
        "outputId": "809e2df1-b95d-4649-eb9d-326b432aa9b2"
      },
      "execution_count": null,
      "outputs": [
        {
          "output_type": "stream",
          "name": "stdout",
          "text": [
            "True\n"
          ]
        }
      ]
    },
    {
      "cell_type": "markdown",
      "source": [
        "### Buying Show Tickets"
      ],
      "metadata": {
        "id": "4VSTewB721HQ"
      }
    },
    {
      "cell_type": "code",
      "source": [
        "def waiting_time(tickets, p):\n",
        "    jesse_position = p\n",
        "    total_people = tickets[0]\n",
        "    total_time = 0\n",
        "\n",
        "    # Best case, if Jesse is first and only wants to buy 1 ticket.\n",
        "    if tickets[jesse_position + 1] == 1 and jesse_position == 0:\n",
        "        return 1\n",
        "    else:\n",
        "        for i in range(1, total_people + 1):\n",
        "            # total_time += tickets[i] if tickets[i] < tickets[jesse_position] else tickets[jesse_position] - (i > jesse_position)\n",
        "            total_time += min(tickets[i], tickets[jesse_position] - (i > jesse_position))\n",
        "        print(total_time)\n",
        "        return total_time\n",
        "\n",
        "waiting_time([2, 6, 3, 4, 5], 2)\n"
      ],
      "metadata": {
        "id": "YsFyF-wg22jD"
      },
      "execution_count": null,
      "outputs": []
    },
    {
      "cell_type": "markdown",
      "source": [
        "### Profit Targets"
      ],
      "metadata": {
        "id": "V3yR62RFEwm0"
      }
    },
    {
      "cell_type": "code",
      "source": [
        "def stockPairs(stocksProfit,target):\n",
        "    n = len(stocksProfit)\n",
        "    stocksProfit = sorted(stocksProfit)\n",
        "    low = 0\n",
        "    high = n-1\n",
        "    pairs = 0\n",
        "    while(low < high):\n",
        "        if(stocksProfit[low] + stocksProfit[high] == target):\n",
        "            pairs += 1\n",
        "            low += 1\n",
        "            high -=1\n",
        "        elif(stocksProfit[low] + stocksProfit[high] < target):\n",
        "            low += 1\n",
        "        else:\n",
        "            high -= 1\n",
        "    return pairs\n",
        "\n",
        "target = 12;\n",
        "stocksProfit = [5,7,9,13,11,6,6,3,3];\n",
        "print(stockPairs(stocksProfit, target))\n",
        "target = 47;\n",
        "stocksProfit = [1,3,46,1,3,9];\n",
        "print(stockPairs(stocksProfit, target))"
      ],
      "metadata": {
        "colab": {
          "base_uri": "https://localhost:8080/"
        },
        "id": "ySshSg0uEy4V",
        "outputId": "7473b758-509c-4d4e-d89c-ff6b2cd8468a"
      },
      "execution_count": null,
      "outputs": [
        {
          "output_type": "stream",
          "name": "stdout",
          "text": [
            "3\n",
            "1\n"
          ]
        }
      ]
    },
    {
      "cell_type": "markdown",
      "source": [
        "### Balanced Parentheses"
      ],
      "metadata": {
        "id": "6UAFhtlKE2YS"
      }
    },
    {
      "cell_type": "code",
      "source": [
        "def isValidPair(left, right):\n",
        "    if left == '(' and right == ')':\n",
        "        return True\n",
        "    if left == '[' and right == ']':\n",
        "        return True\n",
        "    if left == '{' and right == '}':\n",
        "        return True\n",
        "    return False\n",
        "\n",
        "def isProperlyNested(S):\n",
        "    stack = []\n",
        "\n",
        "    for symbol in S:\n",
        "        if symbol == '[' or symbol == '{' or symbol == '(':\n",
        "            stack.append(symbol)\n",
        "        else:\n",
        "            if len(stack) == 0:\n",
        "                return False\n",
        "            last = stack.pop()\n",
        "            if not isValidPair(last, symbol):\n",
        "                return False\n",
        "\n",
        "    if len(stack) != 0:\n",
        "        return False\n",
        "\n",
        "    return True\n",
        "\n",
        "def main():\n",
        "    N = int(raw_input())\n",
        "\n",
        "    for _ in xrange(N):\n",
        "        s = raw_input()\n",
        "        if isProperlyNested(s):\n",
        "            print \"YES\"\n",
        "        else:\n",
        "            print \"NO\"\n",
        "\n",
        "\n",
        "if __name__ == '__main__':\n",
        "    main()"
      ],
      "metadata": {
        "id": "iYwDkWroE4Pk"
      },
      "execution_count": null,
      "outputs": []
    },
    {
      "cell_type": "markdown",
      "source": [
        "### Case 9 Hashing tuple"
      ],
      "metadata": {
        "id": "f5AJs03ud3_g"
      }
    },
    {
      "cell_type": "code",
      "source": [
        "if __name__ == '__main__':\n",
        "    n = int(input())\n",
        "    t = tuple(map(int, [1,2]))\n",
        "    print(hash(t))\n"
      ],
      "metadata": {
        "colab": {
          "base_uri": "https://localhost:8080/"
        },
        "id": "FcPygcnJd55D",
        "outputId": "bcb15b0f-8b17-49b7-fce4-f24b526705bb"
      },
      "execution_count": null,
      "outputs": [
        {
          "output_type": "stream",
          "name": "stdout",
          "text": [
            "2\n",
            "-3550055125485641917\n"
          ]
        }
      ]
    },
    {
      "cell_type": "markdown",
      "source": [
        "### Test when applying work to company with Hackerrank"
      ],
      "metadata": {
        "id": "_kHoyHpEaUgk"
      }
    },
    {
      "cell_type": "code",
      "source": [
        "def calculateIceCreamMeter(totalLate, incrementalFee):\n",
        "    iceCreamMeter = 0\n",
        "    n = int(totalLate)\n",
        "    for i in range(n):\n",
        "        iceCreamMeter = iceCreamMeter + totalLate*incrementalFee\n",
        "        totalLate = totalLate - 1\n",
        "    print(iceCreamMeter)\n",
        "\n",
        "calculateIceCreamMeter(3, 7000)"
      ],
      "metadata": {
        "colab": {
          "base_uri": "https://localhost:8080/"
        },
        "id": "kVePrWNvo5Fm",
        "outputId": "4f188973-61a3-4601-87a5-ed588e6f9fdf"
      },
      "execution_count": null,
      "outputs": [
        {
          "output_type": "stream",
          "name": "stdout",
          "text": [
            "42000\n"
          ]
        }
      ]
    },
    {
      "cell_type": "code",
      "source": [
        "def minimumStep(staircaseMap):\n",
        "    numBefore = 0\n",
        "    zeroCount = 0\n",
        "    for i in staircaseMap:\n",
        "        if i == 1 and i == numBefore:\n",
        "            return 0\n",
        "        elif i == 0 and i == numBefore:\n",
        "            zeroCount += 1\n",
        "            if zeroCount == 3:\n",
        "                return 4\n",
        "        numBefore = i\n",
        "    return 1\n",
        "\n",
        "minimumStep([1,0,0,1,0])"
      ],
      "metadata": {
        "colab": {
          "base_uri": "https://localhost:8080/"
        },
        "id": "poLzbldrs2ch",
        "outputId": "50bbef7e-2ccd-4215-8dad-2b0cfadbf646"
      },
      "execution_count": null,
      "outputs": [
        {
          "output_type": "execute_result",
          "data": {
            "text/plain": [
              "1"
            ]
          },
          "metadata": {},
          "execution_count": 19
        }
      ]
    },
    {
      "cell_type": "code",
      "source": [
        "def virusSpread(peopleCondition, hourInfected):\n",
        "    charBefore = \"\"\n",
        "    results =\"\"\n",
        "    cond = peopleCondition\n",
        "\n",
        "    if hourInfected == 0:\n",
        "        return cond\n",
        "\n",
        "    for _ in range(1, hourInfected):\n",
        "        for i in cond:\n",
        "            if i=='#':\n",
        "                results += '#'\n",
        "            elif (i==\"*\") and (charBefore == \"o\"):\n",
        "                results = results[:-1] + \"*\"\n",
        "                results += \"#\"\n",
        "            elif (i=='o') and (charBefore ==\"*\"):\n",
        "                results += \"*\"\n",
        "            elif i==\"o\":\n",
        "                results += i\n",
        "            elif i=='*':\n",
        "                results += \"#\"\n",
        "            charBefore = i\n",
        "        cond = results\n",
        "    return results\n",
        "\n",
        "virusSpread(\"oo*oo\", 1)"
      ],
      "metadata": {
        "colab": {
          "base_uri": "https://localhost:8080/",
          "height": 36
        },
        "id": "hL7YbiiD76je",
        "outputId": "b35acf55-2073-49d4-ccbd-44218973f4f1"
      },
      "execution_count": null,
      "outputs": [
        {
          "output_type": "execute_result",
          "data": {
            "text/plain": [
              "''"
            ],
            "application/vnd.google.colaboratory.intrinsic+json": {
              "type": "string"
            }
          },
          "metadata": {},
          "execution_count": 20
        }
      ]
    },
    {
      "cell_type": "code",
      "source": [
        "def compare_strings(str1, str2):\n",
        "    output = \"\"\n",
        "\n",
        "    for char1, char2 in zip(str1, str2):\n",
        "        if char1 == char2:\n",
        "            output += char1\n",
        "        else:\n",
        "            output += f\"[{char1}|{char2}]\"\n",
        "\n",
        "    return output\n",
        "\n",
        "str1 = \"programmer\"\n",
        "str2 = \"noobgamers\"\n",
        "\n",
        "result = compare_strings(str1, str2)\n",
        "print(result)\n"
      ],
      "metadata": {
        "colab": {
          "base_uri": "https://localhost:8080/"
        },
        "id": "T1G5SQ6K8SSL",
        "outputId": "c0cf3faf-7b50-4df2-eb96-1026aa120a62"
      },
      "execution_count": null,
      "outputs": [
        {
          "output_type": "stream",
          "name": "stdout",
          "text": [
            "[p|n][r|o]o[g|b][r|g]am[m|e][e|r][r|s]\n"
          ]
        }
      ]
    },
    {
      "cell_type": "code",
      "source": [
        "listPrices = [100000,60000,40000,50000,12000, 6, 120000]\n",
        "\n",
        "money = 250000\n",
        "listPrices = sorted(listPrices)\n",
        "\n",
        "kombinasi = 0\n",
        "#kombinasi1\n",
        "for i in range(len(listPrices)):\n",
        "  if money >= sum(listPrices[:i+1]):\n",
        "    kombinasi +=1\n",
        "\n",
        "\n",
        "print (f\"At least ada sampai {kombinasi} kombinasi\")"
      ],
      "metadata": {
        "colab": {
          "base_uri": "https://localhost:8080/"
        },
        "id": "FW8d3m3sRDws",
        "outputId": "b5d10bca-1db7-4778-9212-696e9e1aaeb4"
      },
      "execution_count": null,
      "outputs": [
        {
          "output_type": "stream",
          "name": "stdout",
          "text": [
            "At least ada sampai 5 kombinasi\n"
          ]
        }
      ]
    },
    {
      "cell_type": "markdown",
      "source": [
        "### I forgot what this case is"
      ],
      "metadata": {
        "id": "jT6qS654aEMa"
      }
    },
    {
      "cell_type": "code",
      "source": [
        "# FInd how much subString in string\n",
        "def count_substring(string, sub_string):\n",
        "    threeLastChar = \"\"\n",
        "    count = 0\n",
        "    for i in string:\n",
        "        threeLastChar += i\n",
        "        if len(threeLastChar)>=len(sub_string):\n",
        "            threeLastChar = threeLastChar[-len(sub_string):]\n",
        "            if threeLastChar == sub_string:\n",
        "                count += 1\n",
        "    return count\n"
      ],
      "metadata": {
        "id": "0ogaY3diehcL"
      },
      "execution_count": null,
      "outputs": []
    },
    {
      "cell_type": "markdown",
      "source": [
        "### sting Check"
      ],
      "metadata": {
        "id": "D1y38_0JaPJs"
      }
    },
    {
      "cell_type": "code",
      "source": [
        "if __name__ == '__main__':\n",
        "    s = input()\n",
        "\n",
        "    print(any(char.isalnum() for char in s))\n",
        "    print(any(char.isalpha() for char in s))\n",
        "    print(any(char.isdigit() for char in s))\n",
        "    print(any(char.islower() for char in s))\n",
        "    print(any(char.isupper() for char in s))\n"
      ],
      "metadata": {
        "colab": {
          "base_uri": "https://localhost:8080/"
        },
        "id": "t-Ridd1nenDw",
        "outputId": "a99b57a5-97ea-4798-f260-fbcbe7e0535f"
      },
      "execution_count": null,
      "outputs": [
        {
          "output_type": "stream",
          "name": "stdout",
          "text": [
            "qA2\n",
            "True\n",
            "True\n",
            "True\n",
            "True\n",
            "True\n"
          ]
        }
      ]
    },
    {
      "cell_type": "markdown",
      "source": [
        "### Case print Hackerrank logo"
      ],
      "metadata": {
        "id": "x3ErTDYfZ3u2"
      }
    },
    {
      "cell_type": "code",
      "source": [
        "#Replace all ______ with rjust, ljust or center.\n",
        "\n",
        "thickness = 10 #This must be an odd number\n",
        "c = 'H'\n",
        "\n",
        "#Top Cone\n",
        "for i in range(thickness):\n",
        "    print((c*i).rjust(thickness-1)+c+(c*i).ljust(thickness-1))\n",
        "\n",
        "#Top Pillars\n",
        "for i in range(thickness+1):\n",
        "    print((c*thickness).center(thickness*2)+(c*thickness).center(thickness*6))\n",
        "\n",
        "#Middle Belt\n",
        "for i in range((thickness+1)//2):\n",
        "    print((c*thickness*5).center(thickness*6))\n",
        "\n",
        "#Bottom Pillars\n",
        "for i in range(thickness+1):\n",
        "    print((c*thickness).center(thickness*2)+(c*thickness).center(thickness*6))\n",
        "\n",
        "#Bottom Cone\n",
        "for i in range(thickness):\n",
        "    print(((c*(thickness-i-1)).rjust(thickness)+c+(c*(thickness-i-1)).ljust(thickness)).rjust(thickness*6))"
      ],
      "metadata": {
        "colab": {
          "base_uri": "https://localhost:8080/"
        },
        "id": "U0zgXi9q4384",
        "outputId": "4620fd4d-ae4e-4e7b-de2f-70ef1a02c358"
      },
      "execution_count": null,
      "outputs": [
        {
          "output_type": "stream",
          "name": "stdout",
          "text": [
            "         H         \n",
            "        HHH        \n",
            "       HHHHH       \n",
            "      HHHHHHH      \n",
            "     HHHHHHHHH     \n",
            "    HHHHHHHHHHH    \n",
            "   HHHHHHHHHHHHH   \n",
            "  HHHHHHHHHHHHHHH  \n",
            " HHHHHHHHHHHHHHHHH \n",
            "HHHHHHHHHHHHHHHHHHH\n",
            "     HHHHHHHHHH                              HHHHHHHHHH                         \n",
            "     HHHHHHHHHH                              HHHHHHHHHH                         \n",
            "     HHHHHHHHHH                              HHHHHHHHHH                         \n",
            "     HHHHHHHHHH                              HHHHHHHHHH                         \n",
            "     HHHHHHHHHH                              HHHHHHHHHH                         \n",
            "     HHHHHHHHHH                              HHHHHHHHHH                         \n",
            "     HHHHHHHHHH                              HHHHHHHHHH                         \n",
            "     HHHHHHHHHH                              HHHHHHHHHH                         \n",
            "     HHHHHHHHHH                              HHHHHHHHHH                         \n",
            "     HHHHHHHHHH                              HHHHHHHHHH                         \n",
            "     HHHHHHHHHH                              HHHHHHHHHH                         \n",
            "     HHHHHHHHHHHHHHHHHHHHHHHHHHHHHHHHHHHHHHHHHHHHHHHHHH     \n",
            "     HHHHHHHHHHHHHHHHHHHHHHHHHHHHHHHHHHHHHHHHHHHHHHHHHH     \n",
            "     HHHHHHHHHHHHHHHHHHHHHHHHHHHHHHHHHHHHHHHHHHHHHHHHHH     \n",
            "     HHHHHHHHHHHHHHHHHHHHHHHHHHHHHHHHHHHHHHHHHHHHHHHHHH     \n",
            "     HHHHHHHHHHHHHHHHHHHHHHHHHHHHHHHHHHHHHHHHHHHHHHHHHH     \n",
            "     HHHHHHHHHH                              HHHHHHHHHH                         \n",
            "     HHHHHHHHHH                              HHHHHHHHHH                         \n",
            "     HHHHHHHHHH                              HHHHHHHHHH                         \n",
            "     HHHHHHHHHH                              HHHHHHHHHH                         \n",
            "     HHHHHHHHHH                              HHHHHHHHHH                         \n",
            "     HHHHHHHHHH                              HHHHHHHHHH                         \n",
            "     HHHHHHHHHH                              HHHHHHHHHH                         \n",
            "     HHHHHHHHHH                              HHHHHHHHHH                         \n",
            "     HHHHHHHHHH                              HHHHHHHHHH                         \n",
            "     HHHHHHHHHH                              HHHHHHHHHH                         \n",
            "     HHHHHHHHHH                              HHHHHHHHHH                         \n",
            "                                        HHHHHHHHHHHHHHHHHHH \n",
            "                                         HHHHHHHHHHHHHHHHH  \n",
            "                                          HHHHHHHHHHHHHHH   \n",
            "                                           HHHHHHHHHHHHH    \n",
            "                                            HHHHHHHHHHH     \n",
            "                                             HHHHHHHHH      \n",
            "                                              HHHHHHH       \n",
            "                                               HHHHH        \n",
            "                                                HHH         \n",
            "                                                 H          \n"
          ]
        }
      ]
    },
    {
      "cell_type": "markdown",
      "source": [
        "### Case text wrap"
      ],
      "metadata": {
        "id": "v_zhPwArzSry"
      }
    },
    {
      "cell_type": "code",
      "source": [
        "string = 'ABCDEFGHIJKLMN'\n",
        "max_width = 4\n",
        "list(range(0,len(string),max_width))\n"
      ],
      "metadata": {
        "colab": {
          "base_uri": "https://localhost:8080/"
        },
        "id": "c4jnb9TH0VKN",
        "outputId": "de769bec-fb6c-4189-9cea-fa4178282b5f"
      },
      "execution_count": null,
      "outputs": [
        {
          "output_type": "execute_result",
          "data": {
            "text/plain": [
              "[0, 4, 8, 12]"
            ]
          },
          "metadata": {},
          "execution_count": 15
        }
      ]
    },
    {
      "cell_type": "code",
      "source": [
        "def wrap(string, max_width):\n",
        "    cropLen = list(range(0,len(string),max_width))\n",
        "\n",
        "    for i in cropLen:\n",
        "        print(string[i-max_width:i])\n",
        "    return\n",
        "\n",
        "wrap(\"ABCDEFGHIJKLMN\",  4)"
      ],
      "metadata": {
        "colab": {
          "base_uri": "https://localhost:8080/"
        },
        "id": "zrFt9qFtDNzo",
        "outputId": "66eb4383-d2ad-4472-82a1-149e522f834d"
      },
      "execution_count": null,
      "outputs": [
        {
          "output_type": "stream",
          "name": "stdout",
          "text": [
            "\n",
            "ABCD\n",
            "EFGH\n",
            "IJKL\n"
          ]
        }
      ]
    },
    {
      "cell_type": "code",
      "source": [
        "import textwrap\n",
        "\n",
        "def wrap(string, max_width):\n",
        "    return textwrap.fill(string, max_width)\n",
        "\n",
        "print(wrap('ABCDEFGHIJKLMN', 4))"
      ],
      "metadata": {
        "colab": {
          "base_uri": "https://localhost:8080/"
        },
        "id": "o56qDd-vzPIb",
        "outputId": "f12232b2-abf8-4e24-a88f-17eee842248d"
      },
      "execution_count": null,
      "outputs": [
        {
          "output_type": "stream",
          "name": "stdout",
          "text": [
            "ABCD\n",
            "EFGH\n",
            "IJKL\n",
            "MN\n"
          ]
        }
      ]
    },
    {
      "cell_type": "markdown",
      "source": [
        "### Case padding"
      ],
      "metadata": {
        "id": "DRm2WcYGBeA1"
      }
    },
    {
      "cell_type": "code",
      "source": [
        "text = '.|.'\n",
        "padding = text.center(27, '-')\n",
        "print(padding)"
      ],
      "metadata": {
        "colab": {
          "base_uri": "https://localhost:8080/"
        },
        "id": "jpGeA9jW5dGv",
        "outputId": "1f385464-746f-4dde-b3e9-bf499ebf72bc"
      },
      "execution_count": null,
      "outputs": [
        {
          "output_type": "stream",
          "name": "stdout",
          "text": [
            "------------.|.------------\n"
          ]
        }
      ]
    },
    {
      "cell_type": "code",
      "source": [
        "x = int(input(\"Masukkan angka ganjil: \"))\n",
        "y = 3*x\n",
        "text = '.|.'\n",
        "center_point = x // 2 + 1\n",
        "\n",
        "try:\n",
        "  if x%2 != 0:\n",
        "    for i in range(1, center_point):\n",
        "      n = (i*2) - 1\n",
        "      print((text*n).center(y, '-'))\n",
        "      if i == center_point:\n",
        "        print('WELCOME'.center(y, '-'))\n",
        "\n",
        "    print('WELCOME'.center(y, '-'))\n",
        "\n",
        "    for i in reversed(range(1, center_point)):\n",
        "      n = (i*2) - 1\n",
        "      print((text*n).center(y, '-'))\n",
        "  else:\n",
        "    raise ValueError(\"Error, angka bukan ganjil\")\n",
        "except ValueError as e:\n",
        "  print(e)"
      ],
      "metadata": {
        "colab": {
          "base_uri": "https://localhost:8080/"
        },
        "id": "zZIxZGC155Of",
        "outputId": "c046d0d6-a08e-4746-f016-29a271f39993"
      },
      "execution_count": null,
      "outputs": [
        {
          "output_type": "stream",
          "name": "stdout",
          "text": [
            "Masukkan angka ganjil: 7\n",
            "---------.|.---------\n",
            "------.|..|..|.------\n",
            "---.|..|..|..|..|.---\n",
            "-------WELCOME-------\n",
            "---.|..|..|..|..|.---\n",
            "------.|..|..|.------\n",
            "---------.|.---------\n"
          ]
        }
      ]
    },
    {
      "cell_type": "markdown",
      "source": [
        "### Print Decimal, Octal, Hexadecimal"
      ],
      "metadata": {
        "id": "cPeViDNcYIpt"
      }
    },
    {
      "cell_type": "code",
      "source": [
        "def print_formatted(number):\n",
        "    octal = 0\n",
        "    passOctal = 0\n",
        "\n",
        "    print('Decimal'.center(16, '-'))\n",
        "    for i in range(1, number+1):\n",
        "        print(i)\n",
        "\n",
        "    print('Octal'.center(16, '-'))\n",
        "    for n in range(1, number+1):\n",
        "        if octal%10 == 7:\n",
        "            passOctal += 1\n",
        "            if passOctal == 2:\n",
        "                octal = 0\n",
        "                passOctal = 0\n",
        "        else:\n",
        "          print(n)\n",
        "\n",
        "        octal += 1\n",
        "\n",
        "    print('Hexadecimal'.center(16, '-'))\n",
        "    for h in range(1, number+1):\n",
        "        if h%10 == 9:\n",
        "          print(h)\n",
        "          for k in ('A', 'B', 'C', 'D', 'E', 'F'):\n",
        "            print(k)\n",
        "        else:\n",
        "          print(h)\n",
        "\n",
        "print_formatted(17)"
      ],
      "metadata": {
        "colab": {
          "base_uri": "https://localhost:8080/"
        },
        "id": "Un8Kzygq_1wC",
        "outputId": "fa224f9c-bfa5-406f-800d-2097713c1dcf"
      },
      "execution_count": null,
      "outputs": [
        {
          "output_type": "stream",
          "name": "stdout",
          "text": [
            "----Decimal-----\n",
            "1\n",
            "2\n",
            "3\n",
            "4\n",
            "5\n",
            "6\n",
            "7\n",
            "8\n",
            "9\n",
            "10\n",
            "11\n",
            "12\n",
            "13\n",
            "14\n",
            "15\n",
            "16\n",
            "17\n",
            "-----Octal------\n",
            "1\n",
            "2\n",
            "3\n",
            "4\n",
            "5\n",
            "6\n",
            "7\n",
            "9\n",
            "10\n",
            "11\n",
            "12\n",
            "13\n",
            "14\n",
            "15\n",
            "16\n",
            "17\n",
            "--Hexadecimal---\n",
            "1\n",
            "2\n",
            "3\n",
            "4\n",
            "5\n",
            "6\n",
            "7\n",
            "8\n",
            "9\n",
            "A\n",
            "B\n",
            "C\n",
            "D\n",
            "E\n",
            "F\n",
            "10\n",
            "11\n",
            "12\n",
            "13\n",
            "14\n",
            "15\n",
            "16\n",
            "17\n"
          ]
        }
      ]
    },
    {
      "cell_type": "code",
      "source": [
        "def print_formatted(number):\n",
        "    pad = number.bit_length()\n",
        "    for i in range(1,number+1):\n",
        "        print(str(i).rjust(pad),oct(i).split(\"o\")[1].rjust(pad),hex(i).split(\"x\")[1].upper().rjust(pad),bin(i).split(\"b\")[1].rjust(pad))\n",
        "if __name__ == '__main__':\n",
        "    n = int(input())\n",
        "    print_formatted(n)"
      ],
      "metadata": {
        "colab": {
          "base_uri": "https://localhost:8080/"
        },
        "id": "vVrXFVWgcC2h",
        "outputId": "844aa420-9e3c-46b4-ec7a-b30c3a1adba4"
      },
      "execution_count": null,
      "outputs": [
        {
          "output_type": "stream",
          "name": "stdout",
          "text": [
            "17\n",
            "    1     1     1     1\n",
            "    2     2     2    10\n",
            "    3     3     3    11\n",
            "    4     4     4   100\n",
            "    5     5     5   101\n",
            "    6     6     6   110\n",
            "    7     7     7   111\n",
            "    8    10     8  1000\n",
            "    9    11     9  1001\n",
            "   10    12     A  1010\n",
            "   11    13     B  1011\n",
            "   12    14     C  1100\n",
            "   13    15     D  1101\n",
            "   14    16     E  1110\n",
            "   15    17     F  1111\n",
            "   16    20    10 10000\n",
            "   17    21    11 10001\n"
          ]
        }
      ]
    },
    {
      "cell_type": "code",
      "source": [
        "def print_formatted(number):\n",
        "    nbin = format(number,'b')\n",
        "    size = len(nbin)\n",
        "    for i in range(1,n+1):\n",
        "        octa = format(i,'o')\n",
        "        hexa = format(i,'X')\n",
        "        bina = format(i,'b')\n",
        "\n",
        "        print(str(i).rjust(size),str(octa).rjust(size),str(hexa).rjust(size),str(bina).rjust(size))\n",
        "if __name__ == '__main__':\n",
        "    n = int(input())\n",
        "    print_formatted(n)"
      ],
      "metadata": {
        "colab": {
          "base_uri": "https://localhost:8080/"
        },
        "id": "FeoR8HffcG6E",
        "outputId": "23fe6122-a7c4-46b2-a7ed-fee906ebf303"
      },
      "execution_count": null,
      "outputs": [
        {
          "output_type": "stream",
          "name": "stdout",
          "text": [
            "17\n",
            "    1     1     1     1\n",
            "    2     2     2    10\n",
            "    3     3     3    11\n",
            "    4     4     4   100\n",
            "    5     5     5   101\n",
            "    6     6     6   110\n",
            "    7     7     7   111\n",
            "    8    10     8  1000\n",
            "    9    11     9  1001\n",
            "   10    12     A  1010\n",
            "   11    13     B  1011\n",
            "   12    14     C  1100\n",
            "   13    15     D  1101\n",
            "   14    16     E  1110\n",
            "   15    17     F  1111\n",
            "   16    20    10 10000\n",
            "   17    21    11 10001\n"
          ]
        }
      ]
    },
    {
      "cell_type": "code",
      "source": [
        "def print_formatted(upto: int):\n",
        "    w = upto.bit_length()\n",
        "    for num in range(1, upto + 1):\n",
        "        print(f\"{num:>{w}d} {num:>{w}o} {num:>{w}X} {num:>{w}b}\")\n",
        "if __name__ == '__main__':\n",
        "    n = int(input())\n",
        "    print_formatted(n)"
      ],
      "metadata": {
        "colab": {
          "base_uri": "https://localhost:8080/"
        },
        "id": "TgPIJGZScRdE",
        "outputId": "feabaf83-c2d1-4422-aafa-51529fb869c2"
      },
      "execution_count": null,
      "outputs": [
        {
          "output_type": "stream",
          "name": "stdout",
          "text": [
            "17\n",
            "    1     1     1     1\n",
            "    2     2     2    10\n",
            "    3     3     3    11\n",
            "    4     4     4   100\n",
            "    5     5     5   101\n",
            "    6     6     6   110\n",
            "    7     7     7   111\n",
            "    8    10     8  1000\n",
            "    9    11     9  1001\n",
            "   10    12     A  1010\n",
            "   11    13     B  1011\n",
            "   12    14     C  1100\n",
            "   13    15     D  1101\n",
            "   14    16     E  1110\n",
            "   15    17     F  1111\n",
            "   16    20    10 10000\n",
            "   17    21    11 10001\n"
          ]
        }
      ]
    },
    {
      "cell_type": "markdown",
      "source": [
        "### Case Compare for every single element in list"
      ],
      "metadata": {
        "id": "ljpbTxhSZyRI"
      }
    },
    {
      "cell_type": "code",
      "source": [
        "def compareTriplets(a, b):\n",
        "    pointA = 0\n",
        "    pointB = 0\n",
        "    for i in range(len(a)):\n",
        "        if a[i] > b[i]:\n",
        "            pointA += 1\n",
        "        elif a[i] < b[i]:\n",
        "            pointB += 1\n",
        "    return pointA, pointB\n",
        "\n",
        "listA = [12, 10, 1]\n",
        "listB = [10, 10, 2]\n",
        "\n",
        "results = compareTriplets(listA, listB)\n",
        "print(results)"
      ],
      "metadata": {
        "colab": {
          "base_uri": "https://localhost:8080/"
        },
        "id": "fvVl_4L6ZxHl",
        "outputId": "e1f6790e-77a3-4ecc-b6f2-d1841262a87e"
      },
      "execution_count": null,
      "outputs": [
        {
          "output_type": "stream",
          "name": "stdout",
          "text": [
            "(1, 1)\n"
          ]
        }
      ]
    },
    {
      "cell_type": "markdown",
      "source": [
        "### Case Capitalized String"
      ],
      "metadata": {
        "id": "5NkOR4M-S32-"
      }
    },
    {
      "cell_type": "code",
      "source": [
        "def solve(s):\n",
        "    listKata = s.split(\" \")\n",
        "    results = \"\"\n",
        "    for i in listKata:\n",
        "        i = i.capitalize()\n",
        "        results += i + \" \"\n",
        "    return results\n",
        "\n",
        "print(solve(\"hello world\"))"
      ],
      "metadata": {
        "colab": {
          "base_uri": "https://localhost:8080/"
        },
        "id": "gpyX_b46S25x",
        "outputId": "4455789d-e2ab-4caa-f23c-71f8378e02d6"
      },
      "execution_count": 3,
      "outputs": [
        {
          "output_type": "stream",
          "name": "stdout",
          "text": [
            "Hello World \n"
          ]
        }
      ]
    },
    {
      "cell_type": "code",
      "source": [
        "def solve(s):\n",
        "    listKata = s.split(\" \")\n",
        "    for index, word in enumerate(listKata):\n",
        "        word = word.capitalize()\n",
        "        listKata[index] = word\n",
        "    results = \" \".join(listKata)\n",
        "    return results\n",
        "\n",
        "print(solve(\"hello world\"))"
      ],
      "metadata": {
        "colab": {
          "base_uri": "https://localhost:8080/"
        },
        "id": "H_-MFxVET7o8",
        "outputId": "81261bee-b65f-4c93-f5d9-1de2b779379b"
      },
      "execution_count": 8,
      "outputs": [
        {
          "output_type": "stream",
          "name": "stdout",
          "text": [
            "Hello World\n"
          ]
        }
      ]
    },
    {
      "cell_type": "code",
      "source": [
        "def solve(s):\n",
        "    listKata = s.split()\n",
        "    results = \" \".join(word.capitalize() for word in listKata)\n",
        "    return results\n",
        "\n",
        "print(solve(\"hello world\"))"
      ],
      "metadata": {
        "colab": {
          "base_uri": "https://localhost:8080/"
        },
        "id": "t8TMBDZZX5hd",
        "outputId": "8cc93f58-72a0-4f03-9c5e-0bc435328de0"
      },
      "execution_count": 9,
      "outputs": [
        {
          "output_type": "stream",
          "name": "stdout",
          "text": [
            "Hello World\n"
          ]
        }
      ]
    }
  ]
}