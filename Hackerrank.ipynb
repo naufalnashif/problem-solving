{
  "nbformat": 4,
  "nbformat_minor": 0,
  "metadata": {
    "colab": {
      "provenance": [],
      "authorship_tag": "ABX9TyPicX8t81l2ltF3uOYf3gq3",
      "include_colab_link": true
    },
    "kernelspec": {
      "name": "python3",
      "display_name": "Python 3"
    },
    "language_info": {
      "name": "python"
    }
  },
  "cells": [
    {
      "cell_type": "markdown",
      "metadata": {
        "id": "view-in-github",
        "colab_type": "text"
      },
      "source": [
        "<a href=\"https://colab.research.google.com/github/naufalnashif/problem-solving/blob/main/Hackerrank.ipynb\" target=\"_parent\"><img src=\"https://colab.research.google.com/assets/colab-badge.svg\" alt=\"Open In Colab\"/></a>"
      ]
    },
    {
      "cell_type": "markdown",
      "source": [
        "## Hackerrank & Any Cases Solutions"
      ],
      "metadata": {
        "id": "1AjJ8YLJlP-B"
      }
    },
    {
      "cell_type": "markdown",
      "source": [
        "### Case 1"
      ],
      "metadata": {
        "id": "rDALXfbh0qHm"
      }
    },
    {
      "cell_type": "code",
      "execution_count": null,
      "metadata": {
        "colab": {
          "base_uri": "https://localhost:8080/"
        },
        "id": "zKkWQGjl2G0D",
        "outputId": "f875797b-cf2a-40cc-be0f-fcc4d6f02d85"
      },
      "outputs": [
        {
          "output_type": "stream",
          "name": "stdout",
          "text": [
            "[[0, 0, 0], [0, 0, 1], [0, 1, 0], [1, 0, 0], [1, 1, 1]]\n"
          ]
        }
      ],
      "source": [
        "def koordinates(x,y,z,n):\n",
        "    results = []\n",
        "    for i in range(x+1):\n",
        "        for j in range(y+1):\n",
        "            for k in range (z+1):\n",
        "                if i+j+k != n:\n",
        "                    coordinate = [i,j,k]\n",
        "                    results.append(coordinate)\n",
        "    print(results)\n",
        "\n",
        "koordinates(1,1,1,2)"
      ]
    },
    {
      "cell_type": "code",
      "source": [
        " def koordinates(x,y,z,n):\n",
        "     results = [[i,j,k] for i in range(x+1) for j in range(y+1) for k in range (z+1) if i+j+k != n]\n",
        "     print(results)\n",
        "koordinates(1,1,1,2)"
      ],
      "metadata": {
        "colab": {
          "base_uri": "https://localhost:8080/"
        },
        "id": "iXc43YBa5Sw1",
        "outputId": "c903a252-9718-40b1-de09-48905132a9a4"
      },
      "execution_count": null,
      "outputs": [
        {
          "output_type": "stream",
          "name": "stdout",
          "text": [
            "[[0, 0, 0], [0, 0, 1], [0, 1, 0], [1, 0, 0], [1, 1, 1]]\n"
          ]
        }
      ]
    },
    {
      "cell_type": "markdown",
      "source": [
        "### Case 2"
      ],
      "metadata": {
        "id": "EUF77Ph80tLX"
      }
    },
    {
      "cell_type": "code",
      "source": [
        "if __name__ == '__main__':\n",
        "    listScore = [37.21, 37.21, 37.2, 41, 39]\n",
        "    nestedLists = [['Harry', 37.21], ['Berry', 37.21], ['Tina', 37.2], ['Akriti', 41], ['Harsh', 39]]\n",
        "    nestedLists.append([name,score])\n",
        "\n",
        "    listScore = sorted(set(listScore))\n",
        "    nestedLists.sort(key = lambda x: x[1])\n",
        "\n",
        "    secLowScore = listScore[1]\n",
        "    resultsName = [item[0] for item in nestedLists if item[1]==secLowScore]\n",
        "\n",
        "    for x in sorted(resultsName):\n",
        "        print(x)"
      ],
      "metadata": {
        "colab": {
          "base_uri": "https://localhost:8080/"
        },
        "id": "REOJj6r4AUUR",
        "outputId": "ac40434b-19a9-401e-9070-8ab3a5c36a45"
      },
      "execution_count": null,
      "outputs": [
        {
          "output_type": "stream",
          "name": "stdout",
          "text": [
            "Berry\n",
            "Harry\n"
          ]
        }
      ]
    },
    {
      "cell_type": "code",
      "source": [
        "if __name__ == '__main__':\n",
        "    nestedLists = []\n",
        "    listScore = []\n",
        "    for _ in range(int(input())):\n",
        "        name = input()\n",
        "        score = float(input())\n",
        "        listScore.append(score)\n",
        "        nestedLists.append([name,score])\n",
        "\n",
        "    listScore = sorted(set(listScore))\n",
        "    nestedLists.sort(key = lambda x: x[1])\n",
        "\n",
        "    secLowScore = listScore[1]\n",
        "    resultsName = [item[0] for item in nestedLists if item[1]==secLowScore]\n",
        "\n",
        "    for x in sorted(resultsName):\n",
        "        print(x)"
      ],
      "metadata": {
        "id": "v3AFKOPIHx0f"
      },
      "execution_count": null,
      "outputs": []
    },
    {
      "cell_type": "markdown",
      "source": [
        "### Case 3 Swapcase"
      ],
      "metadata": {
        "id": "gvQpSx_X0vzM"
      }
    },
    {
      "cell_type": "code",
      "source": [
        "contohKata = \"lowerUPPER\"\n",
        "# contohKata = contohKata.split(\" \")\n",
        "\n",
        "# def lowerUpper(kata):\n",
        "#   hurufLower = []\n",
        "#   hurufUpper = []\n",
        "\n",
        "#   for huruf in kata:\n",
        "#     if huruf.islower():\n",
        "#       hurufLower.append(huruf)\n",
        "#     elif huruf.isupper():\n",
        "#       hurufUpper.append(huruf)\n",
        "\n",
        "#   return hurufLower, hurufUpper\n",
        "\n",
        "\n",
        "def swapCase(kata):\n",
        "  results = \"\"\n",
        "\n",
        "  for huruf in kata:\n",
        "    if huruf.islower():\n",
        "      results += huruf.upper()\n",
        "    elif huruf.isupper():\n",
        "      results += huruf.lower()\n",
        "    else :\n",
        "      results += huruf\n",
        "\n",
        "  return results\n",
        "\n",
        "\n",
        "if __name__ == \"__main__\":\n",
        "  results = swapCase(contohKata)\n",
        "  print(results)"
      ],
      "metadata": {
        "colab": {
          "base_uri": "https://localhost:8080/"
        },
        "id": "LepqKDQPPhF_",
        "outputId": "89e246bd-c9e6-49f8-e8fe-89b433582195"
      },
      "execution_count": null,
      "outputs": [
        {
          "output_type": "stream",
          "name": "stdout",
          "text": [
            "LOWERupper\n"
          ]
        }
      ]
    },
    {
      "cell_type": "markdown",
      "source": [
        "###Case 4 Pop, Sort, Reverse"
      ],
      "metadata": {
        "id": "zYqIAXa10yAl"
      }
    },
    {
      "cell_type": "code",
      "source": [
        "if __name__ == '__main__':\n",
        "    N = int(input())\n",
        "    myList = []\n",
        "\n",
        "    for _ in range(N):\n",
        "        perintah = input().split()\n",
        "        if perintah[0] == \"insert\":\n",
        "            insertIndex = int(perintah[1])\n",
        "            insertValue = int(perintah[2])\n",
        "            myList.insert(insertIndex, insertValue)\n",
        "        elif perintah[0] == \"remove\":\n",
        "            removeValue = int(perintah[1])\n",
        "            myList.remove(removeValue)\n",
        "        elif perintah[0] == \"append\":\n",
        "            appendValue = int(perintah[1])\n",
        "            myList.append(appendValue)\n",
        "        elif perintah[0] == \"sort\":\n",
        "            myList.sort()\n",
        "        elif perintah[0] == \"pop\":\n",
        "            myList.pop()\n",
        "        elif perintah[0] == \"reverse\":\n",
        "            myList.reverse()\n",
        "        elif perintah[0] == \"print\":\n",
        "            print(myList)\n"
      ],
      "metadata": {
        "id": "7wgxZFWBv3Hf"
      },
      "execution_count": null,
      "outputs": []
    },
    {
      "cell_type": "markdown",
      "source": [
        "### Case 5; Fibonacci & Prime number"
      ],
      "metadata": {
        "id": "Sq5bq_Y100iv"
      }
    },
    {
      "cell_type": "code",
      "source": [
        "\n",
        "#Buat bilangan prima antara a - b (inclusive)\n",
        "def seriesGenerator():\n",
        "    a = int(input(\"Masukkan antara (start):\"))\n",
        "    b = int(input(\"Masukkan antara (end):\"))\n",
        "\n",
        "    # Generate a range number\n",
        "    numbs = range(a, b+1)\n",
        "\n",
        "    def primeNumbs(numb): #numb is a number in list. With filter() it can be iterate all number in list\n",
        "        for x in range (2, numb):\n",
        "            if (numb%x) == 0: #konsepnya adalah jika angka dalam var Numbs diiterate atau diambil satu persatu. Misal 7 maka akan dibagi dari angka 1, 2, ..., 6. Jika tidak bisa dibagi maka bilangan prima\n",
        "                return False\n",
        "        return True\n",
        "\n",
        "    def fibonacciNumbs(numb):\n",
        "        fib = [0, 1]\n",
        "        while fib[-1] <= numb: #cek apakah number yang diberikan lebih dari last number in list\n",
        "            fib.append(fib[-1] + fib[-2]) #jika benar maka tambahkan last number dan second last number dan akan masuk looping sampai kondisi last number <= numb tidak terpenuhi\n",
        "        return numb in fib\n",
        "\n",
        "    primes = list(filter(primeNumbs, numbs))\n",
        "    fibonacci = list(filter(fibonacciNumbs, numbs))\n",
        "    return primes, fibonacci\n",
        "\n",
        "if __name__ == \"__main__\":\n",
        "    primes, fibonacci = seriesGenerator()\n",
        "    print(f'List bilangan prima: \\n{primes}')\n",
        "    print(f'List bilangan fibonacci: \\n{fibonacci}')"
      ],
      "metadata": {
        "colab": {
          "base_uri": "https://localhost:8080/"
        },
        "id": "3J95xYVnv6xr",
        "outputId": "4b67acc6-a35d-458a-ed6b-554de57b97b1"
      },
      "execution_count": null,
      "outputs": [
        {
          "output_type": "stream",
          "name": "stdout",
          "text": [
            "Masukkan antara (start):3\n",
            "Masukkan antara (end):25\n",
            "List bilangan prima: \n",
            "[3, 5, 7, 11, 13, 17, 19, 23]\n",
            "List bilangan fibonacci: \n",
            "[3, 5, 8, 13, 21]\n"
          ]
        }
      ]
    },
    {
      "cell_type": "code",
      "source": [
        "numb = 1\n",
        "def fibonacciNumbs(numb):\n",
        "    fib = [0, 1]\n",
        "    while fib[-1] <= numb: #cek apakah number yang diberikan lebih dari last number in list\n",
        "        fib.append(fib[-1] + fib[-2]) #jika benar maka tambahkan last number dan second last number dan akan masuk looping sampai kondisi last number <= numb tidak terpenuhi\n",
        "    print(numb in fib) #output berupa true or false\n",
        "\n",
        "fibonacciNumbs(numb)"
      ],
      "metadata": {
        "colab": {
          "base_uri": "https://localhost:8080/"
        },
        "id": "mWvCKhC82Mwp",
        "outputId": "809e2df1-b95d-4649-eb9d-326b432aa9b2"
      },
      "execution_count": null,
      "outputs": [
        {
          "output_type": "stream",
          "name": "stdout",
          "text": [
            "True\n"
          ]
        }
      ]
    },
    {
      "cell_type": "markdown",
      "source": [
        "### Buying Show Tickets"
      ],
      "metadata": {
        "id": "4VSTewB721HQ"
      }
    },
    {
      "cell_type": "code",
      "source": [
        "def waiting_time(tickets, p):\n",
        "    jesse_position = p\n",
        "    total_people = tickets[0]\n",
        "    total_time = 0\n",
        "\n",
        "    # Best case, if Jesse is first and only wants to buy 1 ticket.\n",
        "    if tickets[jesse_position + 1] == 1 and jesse_position == 0:\n",
        "        return 1\n",
        "    else:\n",
        "        for i in range(1, total_people + 1):\n",
        "            # total_time += tickets[i] if tickets[i] < tickets[jesse_position] else tickets[jesse_position] - (i > jesse_position)\n",
        "            total_time += min(tickets[i], tickets[jesse_position] - (i > jesse_position))\n",
        "        print(total_time)\n",
        "        return total_time\n",
        "\n",
        "waiting_time([2, 6, 3, 4, 5], 2)\n"
      ],
      "metadata": {
        "id": "YsFyF-wg22jD"
      },
      "execution_count": null,
      "outputs": []
    },
    {
      "cell_type": "markdown",
      "source": [
        "### Profit Targets"
      ],
      "metadata": {
        "id": "V3yR62RFEwm0"
      }
    },
    {
      "cell_type": "code",
      "source": [
        "def stockPairs(stocksProfit,target):\n",
        "    n = len(stocksProfit)\n",
        "    stocksProfit = sorted(stocksProfit)\n",
        "    low = 0\n",
        "    high = n-1\n",
        "    pairs = 0\n",
        "    while(low < high):\n",
        "        if(stocksProfit[low] + stocksProfit[high] == target):\n",
        "            pairs += 1\n",
        "            low += 1\n",
        "            high -=1\n",
        "        elif(stocksProfit[low] + stocksProfit[high] < target):\n",
        "            low += 1\n",
        "        else:\n",
        "            high -= 1\n",
        "    return pairs\n",
        "\n",
        "target = 12;\n",
        "stocksProfit = [5,7,9,13,11,6,6,3,3];\n",
        "print(stockPairs(stocksProfit, target))\n",
        "target = 47;\n",
        "stocksProfit = [1,3,46,1,3,9];\n",
        "print(stockPairs(stocksProfit, target))"
      ],
      "metadata": {
        "colab": {
          "base_uri": "https://localhost:8080/"
        },
        "id": "ySshSg0uEy4V",
        "outputId": "7473b758-509c-4d4e-d89c-ff6b2cd8468a"
      },
      "execution_count": null,
      "outputs": [
        {
          "output_type": "stream",
          "name": "stdout",
          "text": [
            "3\n",
            "1\n"
          ]
        }
      ]
    },
    {
      "cell_type": "markdown",
      "source": [
        "### Balanced Parentheses"
      ],
      "metadata": {
        "id": "6UAFhtlKE2YS"
      }
    },
    {
      "cell_type": "code",
      "source": [
        "def isValidPair(left, right):\n",
        "    if left == '(' and right == ')':\n",
        "        return True\n",
        "    if left == '[' and right == ']':\n",
        "        return True\n",
        "    if left == '{' and right == '}':\n",
        "        return True\n",
        "    return False\n",
        "\n",
        "def isProperlyNested(S):\n",
        "    stack = []\n",
        "\n",
        "    for symbol in S:\n",
        "        if symbol == '[' or symbol == '{' or symbol == '(':\n",
        "            stack.append(symbol)\n",
        "        else:\n",
        "            if len(stack) == 0:\n",
        "                return False\n",
        "            last = stack.pop()\n",
        "            if not isValidPair(last, symbol):\n",
        "                return False\n",
        "\n",
        "    if len(stack) != 0:\n",
        "        return False\n",
        "\n",
        "    return True\n",
        "\n",
        "def main():\n",
        "    N = int(raw_input())\n",
        "\n",
        "    for _ in xrange(N):\n",
        "        s = raw_input()\n",
        "        if isProperlyNested(s):\n",
        "            print \"YES\"\n",
        "        else:\n",
        "            print \"NO\"\n",
        "\n",
        "\n",
        "if __name__ == '__main__':\n",
        "    main()"
      ],
      "metadata": {
        "id": "iYwDkWroE4Pk"
      },
      "execution_count": null,
      "outputs": []
    },
    {
      "cell_type": "markdown",
      "source": [
        "### Case 9 Hashing tuple"
      ],
      "metadata": {
        "id": "f5AJs03ud3_g"
      }
    },
    {
      "cell_type": "code",
      "source": [
        "if __name__ == '__main__':\n",
        "    n = int(input())\n",
        "    t = tuple(map(int, [1,2]))\n",
        "    print(hash(t))\n"
      ],
      "metadata": {
        "colab": {
          "base_uri": "https://localhost:8080/"
        },
        "id": "FcPygcnJd55D",
        "outputId": "bcb15b0f-8b17-49b7-fce4-f24b526705bb"
      },
      "execution_count": null,
      "outputs": [
        {
          "output_type": "stream",
          "name": "stdout",
          "text": [
            "2\n",
            "-3550055125485641917\n"
          ]
        }
      ]
    },
    {
      "cell_type": "markdown",
      "source": [
        "### Test when applying work to company with Hackerrank"
      ],
      "metadata": {
        "id": "_kHoyHpEaUgk"
      }
    },
    {
      "cell_type": "code",
      "source": [
        "def calculateIceCreamMeter(totalLate, incrementalFee):\n",
        "    iceCreamMeter = 0\n",
        "    n = int(totalLate)\n",
        "    for i in range(n):\n",
        "        iceCreamMeter = iceCreamMeter + totalLate*incrementalFee\n",
        "        totalLate = totalLate - 1\n",
        "    print(iceCreamMeter)\n",
        "\n",
        "calculateIceCreamMeter(3, 7000)"
      ],
      "metadata": {
        "colab": {
          "base_uri": "https://localhost:8080/"
        },
        "id": "kVePrWNvo5Fm",
        "outputId": "4f188973-61a3-4601-87a5-ed588e6f9fdf"
      },
      "execution_count": null,
      "outputs": [
        {
          "output_type": "stream",
          "name": "stdout",
          "text": [
            "42000\n"
          ]
        }
      ]
    },
    {
      "cell_type": "code",
      "source": [
        "def minimumStep(staircaseMap):\n",
        "    numBefore = 0\n",
        "    zeroCount = 0\n",
        "    for i in staircaseMap:\n",
        "        if i == 1 and i == numBefore:\n",
        "            return 0\n",
        "        elif i == 0 and i == numBefore:\n",
        "            zeroCount += 1\n",
        "            if zeroCount == 3:\n",
        "                return 4\n",
        "        numBefore = i\n",
        "    return 1\n",
        "\n",
        "minimumStep([1,0,0,1,0])"
      ],
      "metadata": {
        "colab": {
          "base_uri": "https://localhost:8080/"
        },
        "id": "poLzbldrs2ch",
        "outputId": "50bbef7e-2ccd-4215-8dad-2b0cfadbf646"
      },
      "execution_count": null,
      "outputs": [
        {
          "output_type": "execute_result",
          "data": {
            "text/plain": [
              "1"
            ]
          },
          "metadata": {},
          "execution_count": 19
        }
      ]
    },
    {
      "cell_type": "code",
      "source": [
        "def virusSpread(peopleCondition, hourInfected):\n",
        "    charBefore = \"\"\n",
        "    results =\"\"\n",
        "    cond = peopleCondition\n",
        "\n",
        "    if hourInfected == 0:\n",
        "        return cond\n",
        "\n",
        "    for _ in range(1, hourInfected):\n",
        "        for i in cond:\n",
        "            if i=='#':\n",
        "                results += '#'\n",
        "            elif (i==\"*\") and (charBefore == \"o\"):\n",
        "                results = results[:-1] + \"*\"\n",
        "                results += \"#\"\n",
        "            elif (i=='o') and (charBefore ==\"*\"):\n",
        "                results += \"*\"\n",
        "            elif i==\"o\":\n",
        "                results += i\n",
        "            elif i=='*':\n",
        "                results += \"#\"\n",
        "            charBefore = i\n",
        "        cond = results\n",
        "    return results\n",
        "\n",
        "virusSpread(\"oo*oo\", 1)"
      ],
      "metadata": {
        "colab": {
          "base_uri": "https://localhost:8080/",
          "height": 36
        },
        "id": "hL7YbiiD76je",
        "outputId": "b35acf55-2073-49d4-ccbd-44218973f4f1"
      },
      "execution_count": null,
      "outputs": [
        {
          "output_type": "execute_result",
          "data": {
            "text/plain": [
              "''"
            ],
            "application/vnd.google.colaboratory.intrinsic+json": {
              "type": "string"
            }
          },
          "metadata": {},
          "execution_count": 20
        }
      ]
    },
    {
      "cell_type": "code",
      "source": [
        "def compare_strings(str1, str2):\n",
        "    output = \"\"\n",
        "\n",
        "    for char1, char2 in zip(str1, str2):\n",
        "        if char1 == char2:\n",
        "            output += char1\n",
        "        else:\n",
        "            output += f\"[{char1}|{char2}]\"\n",
        "\n",
        "    return output\n",
        "\n",
        "str1 = \"programmer\"\n",
        "str2 = \"noobgamers\"\n",
        "\n",
        "result = compare_strings(str1, str2)\n",
        "print(result)\n"
      ],
      "metadata": {
        "colab": {
          "base_uri": "https://localhost:8080/"
        },
        "id": "T1G5SQ6K8SSL",
        "outputId": "c0cf3faf-7b50-4df2-eb96-1026aa120a62"
      },
      "execution_count": null,
      "outputs": [
        {
          "output_type": "stream",
          "name": "stdout",
          "text": [
            "[p|n][r|o]o[g|b][r|g]am[m|e][e|r][r|s]\n"
          ]
        }
      ]
    },
    {
      "cell_type": "code",
      "source": [
        "listPrices = [100000,60000,40000,50000,12000, 6, 120000]\n",
        "\n",
        "money = 250000\n",
        "listPrices = sorted(listPrices)\n",
        "\n",
        "kombinasi = 0\n",
        "#kombinasi1\n",
        "for i in range(len(listPrices)):\n",
        "  if money >= sum(listPrices[:i+1]):\n",
        "    kombinasi +=1\n",
        "\n",
        "\n",
        "print (f\"At least ada sampai {kombinasi} kombinasi\")"
      ],
      "metadata": {
        "colab": {
          "base_uri": "https://localhost:8080/"
        },
        "id": "FW8d3m3sRDws",
        "outputId": "b5d10bca-1db7-4778-9212-696e9e1aaeb4"
      },
      "execution_count": null,
      "outputs": [
        {
          "output_type": "stream",
          "name": "stdout",
          "text": [
            "At least ada sampai 5 kombinasi\n"
          ]
        }
      ]
    },
    {
      "cell_type": "markdown",
      "source": [
        "### I forgot what this case is"
      ],
      "metadata": {
        "id": "jT6qS654aEMa"
      }
    },
    {
      "cell_type": "code",
      "source": [
        "# FInd how much subString in string\n",
        "def count_substring(string, sub_string):\n",
        "    threeLastChar = \"\"\n",
        "    count = 0\n",
        "    for i in string:\n",
        "        threeLastChar += i\n",
        "        if len(threeLastChar)>=len(sub_string):\n",
        "            threeLastChar = threeLastChar[-len(sub_string):]\n",
        "            if threeLastChar == sub_string:\n",
        "                count += 1\n",
        "    return count\n"
      ],
      "metadata": {
        "id": "0ogaY3diehcL"
      },
      "execution_count": null,
      "outputs": []
    },
    {
      "cell_type": "markdown",
      "source": [
        "### sting Check"
      ],
      "metadata": {
        "id": "D1y38_0JaPJs"
      }
    },
    {
      "cell_type": "code",
      "source": [
        "if __name__ == '__main__':\n",
        "    s = input()\n",
        "\n",
        "    print(any(char.isalnum() for char in s))\n",
        "    print(any(char.isalpha() for char in s))\n",
        "    print(any(char.isdigit() for char in s))\n",
        "    print(any(char.islower() for char in s))\n",
        "    print(any(char.isupper() for char in s))\n"
      ],
      "metadata": {
        "colab": {
          "base_uri": "https://localhost:8080/"
        },
        "id": "t-Ridd1nenDw",
        "outputId": "a99b57a5-97ea-4798-f260-fbcbe7e0535f"
      },
      "execution_count": null,
      "outputs": [
        {
          "output_type": "stream",
          "name": "stdout",
          "text": [
            "qA2\n",
            "True\n",
            "True\n",
            "True\n",
            "True\n",
            "True\n"
          ]
        }
      ]
    },
    {
      "cell_type": "markdown",
      "source": [
        "### Case print Hackerrank logo"
      ],
      "metadata": {
        "id": "x3ErTDYfZ3u2"
      }
    },
    {
      "cell_type": "code",
      "source": [
        "#Replace all ______ with rjust, ljust or center.\n",
        "\n",
        "thickness = 10 #This must be an odd number\n",
        "c = 'H'\n",
        "\n",
        "#Top Cone\n",
        "for i in range(thickness):\n",
        "    print((c*i).rjust(thickness-1)+c+(c*i).ljust(thickness-1))\n",
        "\n",
        "#Top Pillars\n",
        "for i in range(thickness+1):\n",
        "    print((c*thickness).center(thickness*2)+(c*thickness).center(thickness*6))\n",
        "\n",
        "#Middle Belt\n",
        "for i in range((thickness+1)//2):\n",
        "    print((c*thickness*5).center(thickness*6))\n",
        "\n",
        "#Bottom Pillars\n",
        "for i in range(thickness+1):\n",
        "    print((c*thickness).center(thickness*2)+(c*thickness).center(thickness*6))\n",
        "\n",
        "#Bottom Cone\n",
        "for i in range(thickness):\n",
        "    print(((c*(thickness-i-1)).rjust(thickness)+c+(c*(thickness-i-1)).ljust(thickness)).rjust(thickness*6))"
      ],
      "metadata": {
        "colab": {
          "base_uri": "https://localhost:8080/"
        },
        "id": "U0zgXi9q4384",
        "outputId": "4620fd4d-ae4e-4e7b-de2f-70ef1a02c358"
      },
      "execution_count": null,
      "outputs": [
        {
          "output_type": "stream",
          "name": "stdout",
          "text": [
            "         H         \n",
            "        HHH        \n",
            "       HHHHH       \n",
            "      HHHHHHH      \n",
            "     HHHHHHHHH     \n",
            "    HHHHHHHHHHH    \n",
            "   HHHHHHHHHHHHH   \n",
            "  HHHHHHHHHHHHHHH  \n",
            " HHHHHHHHHHHHHHHHH \n",
            "HHHHHHHHHHHHHHHHHHH\n",
            "     HHHHHHHHHH                              HHHHHHHHHH                         \n",
            "     HHHHHHHHHH                              HHHHHHHHHH                         \n",
            "     HHHHHHHHHH                              HHHHHHHHHH                         \n",
            "     HHHHHHHHHH                              HHHHHHHHHH                         \n",
            "     HHHHHHHHHH                              HHHHHHHHHH                         \n",
            "     HHHHHHHHHH                              HHHHHHHHHH                         \n",
            "     HHHHHHHHHH                              HHHHHHHHHH                         \n",
            "     HHHHHHHHHH                              HHHHHHHHHH                         \n",
            "     HHHHHHHHHH                              HHHHHHHHHH                         \n",
            "     HHHHHHHHHH                              HHHHHHHHHH                         \n",
            "     HHHHHHHHHH                              HHHHHHHHHH                         \n",
            "     HHHHHHHHHHHHHHHHHHHHHHHHHHHHHHHHHHHHHHHHHHHHHHHHHH     \n",
            "     HHHHHHHHHHHHHHHHHHHHHHHHHHHHHHHHHHHHHHHHHHHHHHHHHH     \n",
            "     HHHHHHHHHHHHHHHHHHHHHHHHHHHHHHHHHHHHHHHHHHHHHHHHHH     \n",
            "     HHHHHHHHHHHHHHHHHHHHHHHHHHHHHHHHHHHHHHHHHHHHHHHHHH     \n",
            "     HHHHHHHHHHHHHHHHHHHHHHHHHHHHHHHHHHHHHHHHHHHHHHHHHH     \n",
            "     HHHHHHHHHH                              HHHHHHHHHH                         \n",
            "     HHHHHHHHHH                              HHHHHHHHHH                         \n",
            "     HHHHHHHHHH                              HHHHHHHHHH                         \n",
            "     HHHHHHHHHH                              HHHHHHHHHH                         \n",
            "     HHHHHHHHHH                              HHHHHHHHHH                         \n",
            "     HHHHHHHHHH                              HHHHHHHHHH                         \n",
            "     HHHHHHHHHH                              HHHHHHHHHH                         \n",
            "     HHHHHHHHHH                              HHHHHHHHHH                         \n",
            "     HHHHHHHHHH                              HHHHHHHHHH                         \n",
            "     HHHHHHHHHH                              HHHHHHHHHH                         \n",
            "     HHHHHHHHHH                              HHHHHHHHHH                         \n",
            "                                        HHHHHHHHHHHHHHHHHHH \n",
            "                                         HHHHHHHHHHHHHHHHH  \n",
            "                                          HHHHHHHHHHHHHHH   \n",
            "                                           HHHHHHHHHHHHH    \n",
            "                                            HHHHHHHHHHH     \n",
            "                                             HHHHHHHHH      \n",
            "                                              HHHHHHH       \n",
            "                                               HHHHH        \n",
            "                                                HHH         \n",
            "                                                 H          \n"
          ]
        }
      ]
    },
    {
      "cell_type": "markdown",
      "source": [
        "### Case text wrap"
      ],
      "metadata": {
        "id": "v_zhPwArzSry"
      }
    },
    {
      "cell_type": "code",
      "source": [
        "string = 'ABCDEFGHIJKLMN'\n",
        "max_width = 4\n",
        "list(range(0,len(string),max_width))\n"
      ],
      "metadata": {
        "colab": {
          "base_uri": "https://localhost:8080/"
        },
        "id": "c4jnb9TH0VKN",
        "outputId": "de769bec-fb6c-4189-9cea-fa4178282b5f"
      },
      "execution_count": null,
      "outputs": [
        {
          "output_type": "execute_result",
          "data": {
            "text/plain": [
              "[0, 4, 8, 12]"
            ]
          },
          "metadata": {},
          "execution_count": 15
        }
      ]
    },
    {
      "cell_type": "code",
      "source": [
        "def wrap(string, max_width):\n",
        "    cropLen = list(range(0,len(string),max_width))\n",
        "\n",
        "    for i in cropLen:\n",
        "        print(string[i-max_width:i])\n",
        "    return\n",
        "\n",
        "wrap(\"ABCDEFGHIJKLMN\",  4)"
      ],
      "metadata": {
        "colab": {
          "base_uri": "https://localhost:8080/"
        },
        "id": "zrFt9qFtDNzo",
        "outputId": "66eb4383-d2ad-4472-82a1-149e522f834d"
      },
      "execution_count": null,
      "outputs": [
        {
          "output_type": "stream",
          "name": "stdout",
          "text": [
            "\n",
            "ABCD\n",
            "EFGH\n",
            "IJKL\n"
          ]
        }
      ]
    },
    {
      "cell_type": "code",
      "source": [
        "import textwrap\n",
        "\n",
        "def wrap(string, max_width):\n",
        "    return textwrap.fill(string, max_width)\n",
        "\n",
        "print(wrap('ABCDEFGHIJKLMN', 4))"
      ],
      "metadata": {
        "colab": {
          "base_uri": "https://localhost:8080/"
        },
        "id": "o56qDd-vzPIb",
        "outputId": "f12232b2-abf8-4e24-a88f-17eee842248d"
      },
      "execution_count": null,
      "outputs": [
        {
          "output_type": "stream",
          "name": "stdout",
          "text": [
            "ABCD\n",
            "EFGH\n",
            "IJKL\n",
            "MN\n"
          ]
        }
      ]
    },
    {
      "cell_type": "markdown",
      "source": [
        "### Case padding"
      ],
      "metadata": {
        "id": "DRm2WcYGBeA1"
      }
    },
    {
      "cell_type": "code",
      "source": [
        "text = '.|.'\n",
        "padding = text.center(27, '-')\n",
        "print(padding)"
      ],
      "metadata": {
        "colab": {
          "base_uri": "https://localhost:8080/"
        },
        "id": "jpGeA9jW5dGv",
        "outputId": "1f385464-746f-4dde-b3e9-bf499ebf72bc"
      },
      "execution_count": null,
      "outputs": [
        {
          "output_type": "stream",
          "name": "stdout",
          "text": [
            "------------.|.------------\n"
          ]
        }
      ]
    },
    {
      "cell_type": "code",
      "source": [
        "x = int(input(\"Masukkan angka ganjil: \"))\n",
        "y = 3*x\n",
        "text = '.|.'\n",
        "center_point = x // 2 + 1\n",
        "\n",
        "try:\n",
        "  if x%2 != 0:\n",
        "    for i in range(1, center_point):\n",
        "      n = (i*2) - 1\n",
        "      print((text*n).center(y, '-'))\n",
        "      if i == center_point:\n",
        "        print('WELCOME'.center(y, '-'))\n",
        "\n",
        "    print('WELCOME'.center(y, '-'))\n",
        "\n",
        "    for i in reversed(range(1, center_point)):\n",
        "      n = (i*2) - 1\n",
        "      print((text*n).center(y, '-'))\n",
        "  else:\n",
        "    raise ValueError(\"Error, angka bukan ganjil\")\n",
        "except ValueError as e:\n",
        "  print(e)"
      ],
      "metadata": {
        "colab": {
          "base_uri": "https://localhost:8080/"
        },
        "id": "zZIxZGC155Of",
        "outputId": "c046d0d6-a08e-4746-f016-29a271f39993"
      },
      "execution_count": null,
      "outputs": [
        {
          "output_type": "stream",
          "name": "stdout",
          "text": [
            "Masukkan angka ganjil: 7\n",
            "---------.|.---------\n",
            "------.|..|..|.------\n",
            "---.|..|..|..|..|.---\n",
            "-------WELCOME-------\n",
            "---.|..|..|..|..|.---\n",
            "------.|..|..|.------\n",
            "---------.|.---------\n"
          ]
        }
      ]
    },
    {
      "cell_type": "markdown",
      "source": [
        "### Print Decimal, Octal, Hexadecimal"
      ],
      "metadata": {
        "id": "cPeViDNcYIpt"
      }
    },
    {
      "cell_type": "code",
      "source": [
        "def print_formatted(number):\n",
        "    octal = 0\n",
        "    passOctal = 0\n",
        "\n",
        "    print('Decimal'.center(16, '-'))\n",
        "    for i in range(1, number+1):\n",
        "        print(i)\n",
        "\n",
        "    print('Octal'.center(16, '-'))\n",
        "    for n in range(1, number+1):\n",
        "        if octal%10 == 7:\n",
        "            passOctal += 1\n",
        "            if passOctal == 2:\n",
        "                octal = 0\n",
        "                passOctal = 0\n",
        "        else:\n",
        "          print(n)\n",
        "\n",
        "        octal += 1\n",
        "\n",
        "    print('Hexadecimal'.center(16, '-'))\n",
        "    for h in range(1, number+1):\n",
        "        if h%10 == 9:\n",
        "          print(h)\n",
        "          for k in ('A', 'B', 'C', 'D', 'E', 'F'):\n",
        "            print(k)\n",
        "        else:\n",
        "          print(h)\n",
        "\n",
        "print_formatted(17)"
      ],
      "metadata": {
        "colab": {
          "base_uri": "https://localhost:8080/"
        },
        "id": "Un8Kzygq_1wC",
        "outputId": "fa224f9c-bfa5-406f-800d-2097713c1dcf"
      },
      "execution_count": null,
      "outputs": [
        {
          "output_type": "stream",
          "name": "stdout",
          "text": [
            "----Decimal-----\n",
            "1\n",
            "2\n",
            "3\n",
            "4\n",
            "5\n",
            "6\n",
            "7\n",
            "8\n",
            "9\n",
            "10\n",
            "11\n",
            "12\n",
            "13\n",
            "14\n",
            "15\n",
            "16\n",
            "17\n",
            "-----Octal------\n",
            "1\n",
            "2\n",
            "3\n",
            "4\n",
            "5\n",
            "6\n",
            "7\n",
            "9\n",
            "10\n",
            "11\n",
            "12\n",
            "13\n",
            "14\n",
            "15\n",
            "16\n",
            "17\n",
            "--Hexadecimal---\n",
            "1\n",
            "2\n",
            "3\n",
            "4\n",
            "5\n",
            "6\n",
            "7\n",
            "8\n",
            "9\n",
            "A\n",
            "B\n",
            "C\n",
            "D\n",
            "E\n",
            "F\n",
            "10\n",
            "11\n",
            "12\n",
            "13\n",
            "14\n",
            "15\n",
            "16\n",
            "17\n"
          ]
        }
      ]
    },
    {
      "cell_type": "code",
      "source": [
        "def print_formatted(number):\n",
        "    pad = number.bit_length()\n",
        "    for i in range(1,number+1):\n",
        "        print(str(i).rjust(pad),oct(i).split(\"o\")[1].rjust(pad),hex(i).split(\"x\")[1].upper().rjust(pad),bin(i).split(\"b\")[1].rjust(pad))\n",
        "if __name__ == '__main__':\n",
        "    n = int(input())\n",
        "    print_formatted(n)"
      ],
      "metadata": {
        "colab": {
          "base_uri": "https://localhost:8080/"
        },
        "id": "vVrXFVWgcC2h",
        "outputId": "844aa420-9e3c-46b4-ec7a-b30c3a1adba4"
      },
      "execution_count": null,
      "outputs": [
        {
          "output_type": "stream",
          "name": "stdout",
          "text": [
            "17\n",
            "    1     1     1     1\n",
            "    2     2     2    10\n",
            "    3     3     3    11\n",
            "    4     4     4   100\n",
            "    5     5     5   101\n",
            "    6     6     6   110\n",
            "    7     7     7   111\n",
            "    8    10     8  1000\n",
            "    9    11     9  1001\n",
            "   10    12     A  1010\n",
            "   11    13     B  1011\n",
            "   12    14     C  1100\n",
            "   13    15     D  1101\n",
            "   14    16     E  1110\n",
            "   15    17     F  1111\n",
            "   16    20    10 10000\n",
            "   17    21    11 10001\n"
          ]
        }
      ]
    },
    {
      "cell_type": "code",
      "source": [
        "def print_formatted(number):\n",
        "    nbin = format(number,'b')\n",
        "    size = len(nbin)\n",
        "    for i in range(1,n+1):\n",
        "        octa = format(i,'o')\n",
        "        hexa = format(i,'X')\n",
        "        bina = format(i,'b')\n",
        "\n",
        "        print(str(i).rjust(size),str(octa).rjust(size),str(hexa).rjust(size),str(bina).rjust(size))\n",
        "if __name__ == '__main__':\n",
        "    n = int(input())\n",
        "    print_formatted(n)"
      ],
      "metadata": {
        "colab": {
          "base_uri": "https://localhost:8080/"
        },
        "id": "FeoR8HffcG6E",
        "outputId": "23fe6122-a7c4-46b2-a7ed-fee906ebf303"
      },
      "execution_count": null,
      "outputs": [
        {
          "output_type": "stream",
          "name": "stdout",
          "text": [
            "17\n",
            "    1     1     1     1\n",
            "    2     2     2    10\n",
            "    3     3     3    11\n",
            "    4     4     4   100\n",
            "    5     5     5   101\n",
            "    6     6     6   110\n",
            "    7     7     7   111\n",
            "    8    10     8  1000\n",
            "    9    11     9  1001\n",
            "   10    12     A  1010\n",
            "   11    13     B  1011\n",
            "   12    14     C  1100\n",
            "   13    15     D  1101\n",
            "   14    16     E  1110\n",
            "   15    17     F  1111\n",
            "   16    20    10 10000\n",
            "   17    21    11 10001\n"
          ]
        }
      ]
    },
    {
      "cell_type": "code",
      "source": [
        "def print_formatted(upto: int):\n",
        "    w = upto.bit_length()\n",
        "    for num in range(1, upto + 1):\n",
        "        print(f\"{num:>{w}d} {num:>{w}o} {num:>{w}X} {num:>{w}b}\")\n",
        "if __name__ == '__main__':\n",
        "    n = int(input())\n",
        "    print_formatted(n)"
      ],
      "metadata": {
        "colab": {
          "base_uri": "https://localhost:8080/"
        },
        "id": "TgPIJGZScRdE",
        "outputId": "feabaf83-c2d1-4422-aafa-51529fb869c2"
      },
      "execution_count": null,
      "outputs": [
        {
          "output_type": "stream",
          "name": "stdout",
          "text": [
            "17\n",
            "    1     1     1     1\n",
            "    2     2     2    10\n",
            "    3     3     3    11\n",
            "    4     4     4   100\n",
            "    5     5     5   101\n",
            "    6     6     6   110\n",
            "    7     7     7   111\n",
            "    8    10     8  1000\n",
            "    9    11     9  1001\n",
            "   10    12     A  1010\n",
            "   11    13     B  1011\n",
            "   12    14     C  1100\n",
            "   13    15     D  1101\n",
            "   14    16     E  1110\n",
            "   15    17     F  1111\n",
            "   16    20    10 10000\n",
            "   17    21    11 10001\n"
          ]
        }
      ]
    },
    {
      "cell_type": "markdown",
      "source": [
        "### Case Compare for every single element in list"
      ],
      "metadata": {
        "id": "ljpbTxhSZyRI"
      }
    },
    {
      "cell_type": "code",
      "source": [
        "def compareTriplets(a, b):\n",
        "    pointA = 0\n",
        "    pointB = 0\n",
        "    for i in range(len(a)):\n",
        "        if a[i] > b[i]:\n",
        "            pointA += 1\n",
        "        elif a[i] < b[i]:\n",
        "            pointB += 1\n",
        "    return pointA, pointB\n",
        "\n",
        "listA = [12, 10, 1]\n",
        "listB = [10, 10, 2]\n",
        "\n",
        "results = compareTriplets(listA, listB)\n",
        "print(results)"
      ],
      "metadata": {
        "colab": {
          "base_uri": "https://localhost:8080/"
        },
        "id": "fvVl_4L6ZxHl",
        "outputId": "e1f6790e-77a3-4ecc-b6f2-d1841262a87e"
      },
      "execution_count": null,
      "outputs": [
        {
          "output_type": "stream",
          "name": "stdout",
          "text": [
            "(1, 1)\n"
          ]
        }
      ]
    },
    {
      "cell_type": "markdown",
      "source": [
        "### Case Capitalized String"
      ],
      "metadata": {
        "id": "5NkOR4M-S32-"
      }
    },
    {
      "cell_type": "code",
      "source": [
        "def solve(s):\n",
        "    listKata = s.split(\" \")\n",
        "    results = \"\"\n",
        "    for i in listKata:\n",
        "        i = i.capitalize()\n",
        "        results += i + \" \"\n",
        "    return results\n",
        "\n",
        "print(solve(\"hello world\"))"
      ],
      "metadata": {
        "colab": {
          "base_uri": "https://localhost:8080/"
        },
        "id": "gpyX_b46S25x",
        "outputId": "4455789d-e2ab-4caa-f23c-71f8378e02d6"
      },
      "execution_count": null,
      "outputs": [
        {
          "output_type": "stream",
          "name": "stdout",
          "text": [
            "Hello World \n"
          ]
        }
      ]
    },
    {
      "cell_type": "code",
      "source": [
        "def solve(s):\n",
        "    listKata = s.split(\" \")\n",
        "    for index, word in enumerate(listKata):\n",
        "        word = word.capitalize()\n",
        "        listKata[index] = word\n",
        "    results = \" \".join(listKata)\n",
        "    return results\n",
        "\n",
        "print(solve(\"hello world\"))"
      ],
      "metadata": {
        "colab": {
          "base_uri": "https://localhost:8080/"
        },
        "id": "H_-MFxVET7o8",
        "outputId": "81261bee-b65f-4c93-f5d9-1de2b779379b"
      },
      "execution_count": null,
      "outputs": [
        {
          "output_type": "stream",
          "name": "stdout",
          "text": [
            "Hello World\n"
          ]
        }
      ]
    },
    {
      "cell_type": "code",
      "source": [
        "def solve(s):\n",
        "    listKata = s.split()\n",
        "    results = \" \".join(word.capitalize() for word in listKata)\n",
        "    return results\n",
        "\n",
        "print(solve(\"hello world\"))"
      ],
      "metadata": {
        "colab": {
          "base_uri": "https://localhost:8080/"
        },
        "id": "t8TMBDZZX5hd",
        "outputId": "8cc93f58-72a0-4f03-9c5e-0bc435328de0"
      },
      "execution_count": null,
      "outputs": [
        {
          "output_type": "stream",
          "name": "stdout",
          "text": [
            "Hello World\n"
          ]
        }
      ]
    },
    {
      "cell_type": "markdown",
      "source": [
        "### Alphabet Rangol"
      ],
      "metadata": {
        "id": "pbmtDmWo7nEq"
      }
    },
    {
      "cell_type": "code",
      "source": [
        "\n",
        "\n",
        "def print_rangoli(size):\n",
        "  import string\n",
        "  width = (size*4) - 3\n",
        "  useAlphabet = list(string.ascii_lowercase)[:size]\n",
        "\n",
        "  for i in range (size):\n",
        "    line = \"-\".join(useAlphabet[i-1:i:-1]+useAlphabet[i:size])\n",
        "print_rangoli(5)"
      ],
      "metadata": {
        "id": "lsxxIkq-7qXs"
      },
      "execution_count": null,
      "outputs": []
    },
    {
      "cell_type": "code",
      "source": [
        "def print_rangoli(size):\n",
        "    import string\n",
        "\n",
        "    if size < 1:\n",
        "        print(\"Size should be at least 1.\")\n",
        "        return\n",
        "\n",
        "    width = (size * 2 - 1) + (size * 2 - 2)\n",
        "    useAlphabet = list(string.ascii_lowercase)[:size]\n",
        "    if size <= 26:\n",
        "      print(useAlphabet[-1].center(width, '-'))\n",
        "    for i in range(size-2, -1, -1):\n",
        "        line = '-'.join(useAlphabet[size-1:i:-1] + useAlphabet[i:size])\n",
        "        print(line.center(width, '-'))\n",
        "\n",
        "    for i in range(size):\n",
        "        if i == 0:\n",
        "          pass\n",
        "        else :\n",
        "          line = '-'.join(useAlphabet[size-1:i:-1] + useAlphabet[i:size])\n",
        "          print(line.center(width, '-'))\n",
        "\n",
        "# Example: create a rangoli with size 5\n",
        "print_rangoli(50)"
      ],
      "metadata": {
        "colab": {
          "base_uri": "https://localhost:8080/"
        },
        "id": "7NJnObdP8awx",
        "outputId": "ec74603d-b03c-4785-8f68-80ddb7cdcc95"
      },
      "execution_count": null,
      "outputs": [
        {
          "output_type": "stream",
          "name": "stdout",
          "text": [
            "-----------------------------------------------------------------------------------------------------------------------------------------------------------------------------------------------------\n",
            "-----------------------------------------------------------------------------------------------------------------------------------------------------------------------------------------------------\n",
            "-----------------------------------------------------------------------------------------------------------------------------------------------------------------------------------------------------\n",
            "-----------------------------------------------------------------------------------------------------------------------------------------------------------------------------------------------------\n",
            "-----------------------------------------------------------------------------------------------------------------------------------------------------------------------------------------------------\n",
            "-----------------------------------------------------------------------------------------------------------------------------------------------------------------------------------------------------\n",
            "-----------------------------------------------------------------------------------------------------------------------------------------------------------------------------------------------------\n",
            "-----------------------------------------------------------------------------------------------------------------------------------------------------------------------------------------------------\n",
            "-----------------------------------------------------------------------------------------------------------------------------------------------------------------------------------------------------\n",
            "-----------------------------------------------------------------------------------------------------------------------------------------------------------------------------------------------------\n",
            "-----------------------------------------------------------------------------------------------------------------------------------------------------------------------------------------------------\n",
            "-----------------------------------------------------------------------------------------------------------------------------------------------------------------------------------------------------\n",
            "-----------------------------------------------------------------------------------------------------------------------------------------------------------------------------------------------------\n",
            "-----------------------------------------------------------------------------------------------------------------------------------------------------------------------------------------------------\n",
            "-----------------------------------------------------------------------------------------------------------------------------------------------------------------------------------------------------\n",
            "-----------------------------------------------------------------------------------------------------------------------------------------------------------------------------------------------------\n",
            "-----------------------------------------------------------------------------------------------------------------------------------------------------------------------------------------------------\n",
            "-----------------------------------------------------------------------------------------------------------------------------------------------------------------------------------------------------\n",
            "-----------------------------------------------------------------------------------------------------------------------------------------------------------------------------------------------------\n",
            "-----------------------------------------------------------------------------------------------------------------------------------------------------------------------------------------------------\n",
            "-----------------------------------------------------------------------------------------------------------------------------------------------------------------------------------------------------\n",
            "-----------------------------------------------------------------------------------------------------------------------------------------------------------------------------------------------------\n",
            "-----------------------------------------------------------------------------------------------------------------------------------------------------------------------------------------------------\n",
            "--------------------------------------------------------------------------------------------------z--------------------------------------------------------------------------------------------------\n",
            "------------------------------------------------------------------------------------------------z-y-z------------------------------------------------------------------------------------------------\n",
            "----------------------------------------------------------------------------------------------z-y-x-y-z----------------------------------------------------------------------------------------------\n",
            "--------------------------------------------------------------------------------------------z-y-x-w-x-y-z--------------------------------------------------------------------------------------------\n",
            "------------------------------------------------------------------------------------------z-y-x-w-v-w-x-y-z------------------------------------------------------------------------------------------\n",
            "----------------------------------------------------------------------------------------z-y-x-w-v-u-v-w-x-y-z----------------------------------------------------------------------------------------\n",
            "--------------------------------------------------------------------------------------z-y-x-w-v-u-t-u-v-w-x-y-z--------------------------------------------------------------------------------------\n",
            "------------------------------------------------------------------------------------z-y-x-w-v-u-t-s-t-u-v-w-x-y-z------------------------------------------------------------------------------------\n",
            "----------------------------------------------------------------------------------z-y-x-w-v-u-t-s-r-s-t-u-v-w-x-y-z----------------------------------------------------------------------------------\n",
            "--------------------------------------------------------------------------------z-y-x-w-v-u-t-s-r-q-r-s-t-u-v-w-x-y-z--------------------------------------------------------------------------------\n",
            "------------------------------------------------------------------------------z-y-x-w-v-u-t-s-r-q-p-q-r-s-t-u-v-w-x-y-z------------------------------------------------------------------------------\n",
            "----------------------------------------------------------------------------z-y-x-w-v-u-t-s-r-q-p-o-p-q-r-s-t-u-v-w-x-y-z----------------------------------------------------------------------------\n",
            "--------------------------------------------------------------------------z-y-x-w-v-u-t-s-r-q-p-o-n-o-p-q-r-s-t-u-v-w-x-y-z--------------------------------------------------------------------------\n",
            "------------------------------------------------------------------------z-y-x-w-v-u-t-s-r-q-p-o-n-m-n-o-p-q-r-s-t-u-v-w-x-y-z------------------------------------------------------------------------\n",
            "----------------------------------------------------------------------z-y-x-w-v-u-t-s-r-q-p-o-n-m-l-m-n-o-p-q-r-s-t-u-v-w-x-y-z----------------------------------------------------------------------\n",
            "--------------------------------------------------------------------z-y-x-w-v-u-t-s-r-q-p-o-n-m-l-k-l-m-n-o-p-q-r-s-t-u-v-w-x-y-z--------------------------------------------------------------------\n",
            "------------------------------------------------------------------z-y-x-w-v-u-t-s-r-q-p-o-n-m-l-k-j-k-l-m-n-o-p-q-r-s-t-u-v-w-x-y-z------------------------------------------------------------------\n",
            "----------------------------------------------------------------z-y-x-w-v-u-t-s-r-q-p-o-n-m-l-k-j-i-j-k-l-m-n-o-p-q-r-s-t-u-v-w-x-y-z----------------------------------------------------------------\n",
            "--------------------------------------------------------------z-y-x-w-v-u-t-s-r-q-p-o-n-m-l-k-j-i-h-i-j-k-l-m-n-o-p-q-r-s-t-u-v-w-x-y-z--------------------------------------------------------------\n",
            "------------------------------------------------------------z-y-x-w-v-u-t-s-r-q-p-o-n-m-l-k-j-i-h-g-h-i-j-k-l-m-n-o-p-q-r-s-t-u-v-w-x-y-z------------------------------------------------------------\n",
            "----------------------------------------------------------z-y-x-w-v-u-t-s-r-q-p-o-n-m-l-k-j-i-h-g-f-g-h-i-j-k-l-m-n-o-p-q-r-s-t-u-v-w-x-y-z----------------------------------------------------------\n",
            "--------------------------------------------------------z-y-x-w-v-u-t-s-r-q-p-o-n-m-l-k-j-i-h-g-f-e-f-g-h-i-j-k-l-m-n-o-p-q-r-s-t-u-v-w-x-y-z--------------------------------------------------------\n",
            "------------------------------------------------------z-y-x-w-v-u-t-s-r-q-p-o-n-m-l-k-j-i-h-g-f-e-d-e-f-g-h-i-j-k-l-m-n-o-p-q-r-s-t-u-v-w-x-y-z------------------------------------------------------\n",
            "----------------------------------------------------z-y-x-w-v-u-t-s-r-q-p-o-n-m-l-k-j-i-h-g-f-e-d-c-d-e-f-g-h-i-j-k-l-m-n-o-p-q-r-s-t-u-v-w-x-y-z----------------------------------------------------\n",
            "--------------------------------------------------z-y-x-w-v-u-t-s-r-q-p-o-n-m-l-k-j-i-h-g-f-e-d-c-b-c-d-e-f-g-h-i-j-k-l-m-n-o-p-q-r-s-t-u-v-w-x-y-z--------------------------------------------------\n",
            "------------------------------------------------z-y-x-w-v-u-t-s-r-q-p-o-n-m-l-k-j-i-h-g-f-e-d-c-b-a-b-c-d-e-f-g-h-i-j-k-l-m-n-o-p-q-r-s-t-u-v-w-x-y-z------------------------------------------------\n",
            "--------------------------------------------------z-y-x-w-v-u-t-s-r-q-p-o-n-m-l-k-j-i-h-g-f-e-d-c-b-c-d-e-f-g-h-i-j-k-l-m-n-o-p-q-r-s-t-u-v-w-x-y-z--------------------------------------------------\n",
            "----------------------------------------------------z-y-x-w-v-u-t-s-r-q-p-o-n-m-l-k-j-i-h-g-f-e-d-c-d-e-f-g-h-i-j-k-l-m-n-o-p-q-r-s-t-u-v-w-x-y-z----------------------------------------------------\n",
            "------------------------------------------------------z-y-x-w-v-u-t-s-r-q-p-o-n-m-l-k-j-i-h-g-f-e-d-e-f-g-h-i-j-k-l-m-n-o-p-q-r-s-t-u-v-w-x-y-z------------------------------------------------------\n",
            "--------------------------------------------------------z-y-x-w-v-u-t-s-r-q-p-o-n-m-l-k-j-i-h-g-f-e-f-g-h-i-j-k-l-m-n-o-p-q-r-s-t-u-v-w-x-y-z--------------------------------------------------------\n",
            "----------------------------------------------------------z-y-x-w-v-u-t-s-r-q-p-o-n-m-l-k-j-i-h-g-f-g-h-i-j-k-l-m-n-o-p-q-r-s-t-u-v-w-x-y-z----------------------------------------------------------\n",
            "------------------------------------------------------------z-y-x-w-v-u-t-s-r-q-p-o-n-m-l-k-j-i-h-g-h-i-j-k-l-m-n-o-p-q-r-s-t-u-v-w-x-y-z------------------------------------------------------------\n",
            "--------------------------------------------------------------z-y-x-w-v-u-t-s-r-q-p-o-n-m-l-k-j-i-h-i-j-k-l-m-n-o-p-q-r-s-t-u-v-w-x-y-z--------------------------------------------------------------\n",
            "----------------------------------------------------------------z-y-x-w-v-u-t-s-r-q-p-o-n-m-l-k-j-i-j-k-l-m-n-o-p-q-r-s-t-u-v-w-x-y-z----------------------------------------------------------------\n",
            "------------------------------------------------------------------z-y-x-w-v-u-t-s-r-q-p-o-n-m-l-k-j-k-l-m-n-o-p-q-r-s-t-u-v-w-x-y-z------------------------------------------------------------------\n",
            "--------------------------------------------------------------------z-y-x-w-v-u-t-s-r-q-p-o-n-m-l-k-l-m-n-o-p-q-r-s-t-u-v-w-x-y-z--------------------------------------------------------------------\n",
            "----------------------------------------------------------------------z-y-x-w-v-u-t-s-r-q-p-o-n-m-l-m-n-o-p-q-r-s-t-u-v-w-x-y-z----------------------------------------------------------------------\n",
            "------------------------------------------------------------------------z-y-x-w-v-u-t-s-r-q-p-o-n-m-n-o-p-q-r-s-t-u-v-w-x-y-z------------------------------------------------------------------------\n",
            "--------------------------------------------------------------------------z-y-x-w-v-u-t-s-r-q-p-o-n-o-p-q-r-s-t-u-v-w-x-y-z--------------------------------------------------------------------------\n",
            "----------------------------------------------------------------------------z-y-x-w-v-u-t-s-r-q-p-o-p-q-r-s-t-u-v-w-x-y-z----------------------------------------------------------------------------\n",
            "------------------------------------------------------------------------------z-y-x-w-v-u-t-s-r-q-p-q-r-s-t-u-v-w-x-y-z------------------------------------------------------------------------------\n",
            "--------------------------------------------------------------------------------z-y-x-w-v-u-t-s-r-q-r-s-t-u-v-w-x-y-z--------------------------------------------------------------------------------\n",
            "----------------------------------------------------------------------------------z-y-x-w-v-u-t-s-r-s-t-u-v-w-x-y-z----------------------------------------------------------------------------------\n",
            "------------------------------------------------------------------------------------z-y-x-w-v-u-t-s-t-u-v-w-x-y-z------------------------------------------------------------------------------------\n",
            "--------------------------------------------------------------------------------------z-y-x-w-v-u-t-u-v-w-x-y-z--------------------------------------------------------------------------------------\n",
            "----------------------------------------------------------------------------------------z-y-x-w-v-u-v-w-x-y-z----------------------------------------------------------------------------------------\n",
            "------------------------------------------------------------------------------------------z-y-x-w-v-w-x-y-z------------------------------------------------------------------------------------------\n",
            "--------------------------------------------------------------------------------------------z-y-x-w-x-y-z--------------------------------------------------------------------------------------------\n",
            "----------------------------------------------------------------------------------------------z-y-x-y-z----------------------------------------------------------------------------------------------\n",
            "------------------------------------------------------------------------------------------------z-y-z------------------------------------------------------------------------------------------------\n",
            "--------------------------------------------------------------------------------------------------z--------------------------------------------------------------------------------------------------\n",
            "-----------------------------------------------------------------------------------------------------------------------------------------------------------------------------------------------------\n",
            "-----------------------------------------------------------------------------------------------------------------------------------------------------------------------------------------------------\n",
            "-----------------------------------------------------------------------------------------------------------------------------------------------------------------------------------------------------\n",
            "-----------------------------------------------------------------------------------------------------------------------------------------------------------------------------------------------------\n",
            "-----------------------------------------------------------------------------------------------------------------------------------------------------------------------------------------------------\n",
            "-----------------------------------------------------------------------------------------------------------------------------------------------------------------------------------------------------\n",
            "-----------------------------------------------------------------------------------------------------------------------------------------------------------------------------------------------------\n",
            "-----------------------------------------------------------------------------------------------------------------------------------------------------------------------------------------------------\n",
            "-----------------------------------------------------------------------------------------------------------------------------------------------------------------------------------------------------\n",
            "-----------------------------------------------------------------------------------------------------------------------------------------------------------------------------------------------------\n",
            "-----------------------------------------------------------------------------------------------------------------------------------------------------------------------------------------------------\n",
            "-----------------------------------------------------------------------------------------------------------------------------------------------------------------------------------------------------\n",
            "-----------------------------------------------------------------------------------------------------------------------------------------------------------------------------------------------------\n",
            "-----------------------------------------------------------------------------------------------------------------------------------------------------------------------------------------------------\n",
            "-----------------------------------------------------------------------------------------------------------------------------------------------------------------------------------------------------\n",
            "-----------------------------------------------------------------------------------------------------------------------------------------------------------------------------------------------------\n",
            "-----------------------------------------------------------------------------------------------------------------------------------------------------------------------------------------------------\n",
            "-----------------------------------------------------------------------------------------------------------------------------------------------------------------------------------------------------\n",
            "-----------------------------------------------------------------------------------------------------------------------------------------------------------------------------------------------------\n",
            "-----------------------------------------------------------------------------------------------------------------------------------------------------------------------------------------------------\n",
            "-----------------------------------------------------------------------------------------------------------------------------------------------------------------------------------------------------\n",
            "-----------------------------------------------------------------------------------------------------------------------------------------------------------------------------------------------------\n",
            "-----------------------------------------------------------------------------------------------------------------------------------------------------------------------------------------------------\n",
            "-----------------------------------------------------------------------------------------------------------------------------------------------------------------------------------------------------\n"
          ]
        }
      ]
    },
    {
      "cell_type": "markdown",
      "source": [
        "### Case update stock with Counter()"
      ],
      "metadata": {
        "id": "kRh0zFYFNGWJ"
      }
    },
    {
      "cell_type": "code",
      "source": [
        "# Enter your code here. Read input from STDIN. Print output to STDOUT\n",
        "\n",
        "from collections import Counter\n",
        "\n",
        "countSepatu = input(\"Masukkan jumlah stok sepatu:\")\n",
        "listUkuran = list(input(\"Masukkan list ukuran sepatu : \").split())\n",
        "listUkuran = list(map(int, listUkuran))\n",
        "\n",
        "counterStock = Counter(listUkuran)\n",
        "countPelanggan = int(input(\"Masukkan jumlah pembeli :\"))\n",
        "\n",
        "pendapatan = 0\n",
        "\n",
        "for pelanggan in range(countPelanggan):\n",
        "    ukuran, harga = input(f\"Masukkan ukuran dan harga pelanggan ke - {pelanggan+1}:\").split()\n",
        "    ukuran = int(ukuran)\n",
        "    harga = int(harga)\n",
        "\n",
        "    if counterStock[ukuran]:\n",
        "        counterStock[ukuran] -= 1\n",
        "        pendapatan += harga\n",
        "\n",
        "print(f'Pendapatan : {pendapatan}')\n",
        "\n",
        "# ---------------------------------------------------------------\n",
        "# Input\n",
        "# 10\n",
        "# 2 3 4 5 6 8 7 6 5 18\n",
        "# 6\n",
        "# 6 55\n",
        "# 6 45\n",
        "# 6 55\n",
        "# 4 40\n",
        "# 18 60\n",
        "# 10 50\n",
        "\n",
        "#output\n",
        "# 200"
      ],
      "metadata": {
        "colab": {
          "base_uri": "https://localhost:8080/"
        },
        "id": "2tcJnK_8K5zV",
        "outputId": "134817c3-ee46-442c-8c24-dfe0829ef0d1"
      },
      "execution_count": null,
      "outputs": [
        {
          "output_type": "stream",
          "name": "stdout",
          "text": [
            "Masukkan jumlah stok sepatu:10\n",
            "Masukkan list ukuran sepatu : 2 3 4 5 6 8 7 6 5 18\n",
            "Masukkan jumlah pembeli :6\n",
            "Masukkan ukuran dan harga pelanggan ke - 1:6 55\n",
            "Masukkan ukuran dan harga pelanggan ke - 2:6 45\n",
            "Masukkan ukuran dan harga pelanggan ke - 3:6 55\n",
            "Masukkan ukuran dan harga pelanggan ke - 4:4 40\n",
            "Masukkan ukuran dan harga pelanggan ke - 5:18 60\n",
            "Masukkan ukuran dan harga pelanggan ke - 6:10 50\n",
            "Pendapatan : 200\n"
          ]
        }
      ]
    },
    {
      "cell_type": "markdown",
      "source": [
        "### Case MERGE The Tools ! (crop string into sub string with unique char without sorted. If use set, it will be sorted).\n",
        "\n",
        "- MEDIUM Case"
      ],
      "metadata": {
        "id": "z4SMbXQOASd9"
      }
    },
    {
      "cell_type": "code",
      "source": [
        "def merge_the_tools(string, k):\n",
        "  for i in range(k+1):\n",
        "    if i > 0:\n",
        "      cropString = string[(k*i)-k:k*i]\n",
        "      print(\"\".join(set(cropString)))\n",
        "\n",
        "#Masih salah karena harusnya CA bukan AC"
      ],
      "metadata": {
        "colab": {
          "base_uri": "https://localhost:8080/"
        },
        "id": "V4a-mlSY2bvL",
        "outputId": "144c7a39-31c3-4798-a610-6270b0334abb"
      },
      "execution_count": null,
      "outputs": [
        {
          "output_type": "stream",
          "name": "stdout",
          "text": [
            "A\n",
            "AC\n",
            "AD\n",
            "-------Case 2-------\n",
            "AB\n",
            "AC\n",
            "AD\n"
          ]
        }
      ]
    },
    {
      "cell_type": "code",
      "source": [
        "def merge_the_tools(string, k):\n",
        "  for i in range(k+1):\n",
        "    if i > 0:\n",
        "      cropString = string[(k*i)-k:k*i]\n",
        "      results = \"\"\n",
        "      for char in cropString:\n",
        "        if char not in results:\n",
        "          results += char\n",
        "      print(results)\n",
        "\n",
        "merge_the_tools('AAACAAADA', 3)\n",
        "print('Case 2'.center(20, '-'))\n",
        "merge_the_tools('AABCAAADACDS', 3) #len(string) = 12\n",
        "\n",
        "#Ada satu test case salah, yaitu jika len(string) > k*k, karena pendekatan yg saya buat berdasarkan nilai k,\n",
        "# jika k = 3 berarti hanya ada 3 sub string. Case jika len(string) = 12, bukan 3 sub string harusnya 4 sub string"
      ],
      "metadata": {
        "colab": {
          "base_uri": "https://localhost:8080/"
        },
        "id": "DS_CNj1G8SSt",
        "outputId": "af7fa318-748d-4133-dd17-b0acf7e220de"
      },
      "execution_count": null,
      "outputs": [
        {
          "output_type": "stream",
          "name": "stdout",
          "text": [
            "A\n",
            "CA\n",
            "AD\n",
            "-------Case 2-------\n",
            "AB\n",
            "CA\n",
            "AD\n"
          ]
        }
      ]
    },
    {
      "cell_type": "code",
      "source": [
        "def merge_the_tools(string, k):\n",
        "  for i in range(int(len(string)/k) +1):\n",
        "    if i > 0:\n",
        "      cropString = string[(k*i)-k:k*i]\n",
        "      results = \"\"\n",
        "      for char in cropString:\n",
        "        if char not in results:\n",
        "          results += char\n",
        "      print(results)\n",
        "\n",
        "merge_the_tools('AAACAAADAVAA', 3)\n",
        "print('Case 2'.center(20, '-'))\n",
        "merge_the_tools('AABCAAADACDA', 3)"
      ],
      "metadata": {
        "colab": {
          "base_uri": "https://localhost:8080/"
        },
        "id": "tOZCgFTT_frv",
        "outputId": "730ea7c1-aeb4-4f9e-c5a1-04ed42a05806"
      },
      "execution_count": null,
      "outputs": [
        {
          "output_type": "stream",
          "name": "stdout",
          "text": [
            "A\n",
            "CA\n",
            "AD\n",
            "VA\n",
            "-------Case 2-------\n",
            "AB\n",
            "CA\n",
            "AD\n",
            "CDA\n"
          ]
        }
      ]
    },
    {
      "cell_type": "markdown",
      "source": [
        "### Case itertools.product"
      ],
      "metadata": {
        "id": "qv-jyCvTQP6S"
      }
    },
    {
      "cell_type": "code",
      "source": [
        "from itertools import product\n",
        "overview = list(product([1,2,3], repeat = 2))\n",
        "print(overview)\n",
        "\n",
        "for i in overview:\n",
        "  print(i)"
      ],
      "metadata": {
        "colab": {
          "base_uri": "https://localhost:8080/"
        },
        "id": "fIuwbz42QTaY",
        "outputId": "0c6e75fd-9b61-470e-9d02-71a1c6e38702"
      },
      "execution_count": null,
      "outputs": [
        {
          "output_type": "stream",
          "name": "stdout",
          "text": [
            "[(1, 1), (1, 2), (1, 3), (2, 1), (2, 2), (2, 3), (3, 1), (3, 2), (3, 3)]\n",
            "(1, 1)\n",
            "(1, 2)\n",
            "(1, 3)\n",
            "(2, 1)\n",
            "(2, 2)\n",
            "(2, 3)\n",
            "(3, 1)\n",
            "(3, 2)\n",
            "(3, 3)\n"
          ]
        }
      ]
    },
    {
      "cell_type": "code",
      "source": [
        "def cartesianProduct():\n",
        "    from itertools import product\n",
        "\n",
        "    A = list(map(int,input().split()))\n",
        "    B = list(map(int,input().split()))\n",
        "    listProduct = list(product(A, B))\n",
        "    tupleProduct = tuple(product(A, B))\n",
        "    return listProduct\n",
        "\n",
        "if __name__ == \"__main__\":\n",
        "    results = cartesianProduct()\n",
        "\n",
        "    for i in results:\n",
        "      print(i, end = \" \")\n",
        "\n"
      ],
      "metadata": {
        "colab": {
          "base_uri": "https://localhost:8080/"
        },
        "id": "_IqIsvV0oFLi",
        "outputId": "9418eb34-fb4b-4fd7-c4ea-e924db82c1ce"
      },
      "execution_count": null,
      "outputs": [
        {
          "output_type": "stream",
          "name": "stdout",
          "text": [
            "1 3\n",
            "3 4\n",
            "(1, 3) (1, 4) (3, 3) (3, 4) "
          ]
        }
      ]
    },
    {
      "cell_type": "code",
      "source": [
        "from itertools import permutations\n",
        "\n",
        "def permutationFunc():\n",
        "    inputUser = input().split()\n",
        "    inputUser = [char for char in inputUser if char != \" \"]\n",
        "    charInput = list(inputUser[0])\n",
        "    lenPer = int(inputUser[1])\n",
        "    # return inputUser\n",
        "    return list(permutations(charInput, lenPer))\n",
        "\n",
        "if __name__==\"__main__\":\n",
        "    results = permutationFunc()\n",
        "    # print(results)\n",
        "    for i in sorted(results):\n",
        "        # print(i)\n",
        "        print(\"\".join(i))"
      ],
      "metadata": {
        "colab": {
          "base_uri": "https://localhost:8080/"
        },
        "id": "gCMiGxMERmCc",
        "outputId": "5d51d208-bb02-4c32-9cb9-52d218d75e83"
      },
      "execution_count": null,
      "outputs": [
        {
          "output_type": "stream",
          "name": "stdout",
          "text": [
            "HACK 2\n",
            "AC\n",
            "AH\n",
            "AK\n",
            "CA\n",
            "CH\n",
            "CK\n",
            "HA\n",
            "HC\n",
            "HK\n",
            "KA\n",
            "KC\n",
            "KH\n"
          ]
        }
      ]
    },
    {
      "cell_type": "code",
      "source": [
        "from itertools import combinations\n",
        "\n",
        "def combinationsFunc():\n",
        "    inputUser = input().split()\n",
        "    inputUser = [char for char in inputUser if char != \" \"]\n",
        "    charInput = list(inputUser[0])\n",
        "    lenCom = int(inputUser[1])\n",
        "    # return inputUser\n",
        "    for len in range(1,lenCom+1):\n",
        "      results = list(combinations(charInput, len))\n",
        "      # print(results)\n",
        "      for i in sorted(results):\n",
        "          # print(i)\n",
        "          print(\"\".join(sorted(i)))\n",
        "\n",
        "if __name__==\"__main__\":\n",
        "    combinationsFunc()\n"
      ],
      "metadata": {
        "colab": {
          "base_uri": "https://localhost:8080/"
        },
        "id": "z_niy_pZQLjd",
        "outputId": "481a0031-dbcd-4ce3-e348-37d0ed816aa5"
      },
      "execution_count": null,
      "outputs": [
        {
          "output_type": "stream",
          "name": "stdout",
          "text": [
            "HACK 2\n",
            "A\n",
            "C\n",
            "H\n",
            "K\n",
            "AC\n",
            "AK\n",
            "CK\n",
            "AH\n",
            "CH\n",
            "HK\n"
          ]
        }
      ]
    },
    {
      "cell_type": "code",
      "source": [
        "from itertools import combinations\n",
        "\n",
        "s , n  = input().split()\n",
        "\n",
        "for i in range(1, int(n)+1):\n",
        "    for j in combinations(sorted(s), i):\n",
        "        print(''.join(j))"
      ],
      "metadata": {
        "colab": {
          "base_uri": "https://localhost:8080/"
        },
        "id": "6SG4lxgGiZr1",
        "outputId": "6a8bd861-ef35-4ce7-b499-c53e407dfbea"
      },
      "execution_count": null,
      "outputs": [
        {
          "output_type": "stream",
          "name": "stdout",
          "text": [
            "HACK 2\n",
            "A\n",
            "C\n",
            "H\n",
            "K\n",
            "AC\n",
            "AH\n",
            "AK\n",
            "CH\n",
            "CK\n",
            "HK\n"
          ]
        }
      ]
    },
    {
      "cell_type": "code",
      "source": [
        "from itertools import combinations_with_replacement\n",
        "\n",
        "s , n  = input().split()\n",
        "\n",
        "for j in combinations_with_replacement(sorted(s), int(n)):\n",
        "    print(''.join(j))\n"
      ],
      "metadata": {
        "colab": {
          "base_uri": "https://localhost:8080/"
        },
        "id": "v1YgJVGNjm_C",
        "outputId": "75846913-6a6a-4610-d241-417b32b14bd6"
      },
      "execution_count": null,
      "outputs": [
        {
          "output_type": "stream",
          "name": "stdout",
          "text": [
            "HACK 2\n",
            "AA\n",
            "AC\n",
            "AH\n",
            "AK\n",
            "CC\n",
            "CH\n",
            "CK\n",
            "HH\n",
            "HK\n",
            "KK\n"
          ]
        }
      ]
    },
    {
      "cell_type": "code",
      "source": [
        "from itertools import groupby\n",
        "\n",
        "for key, group in groupby(input()):\n",
        "    length = len(list(group))\n",
        "    print(f'({length}, {key})', end=\" \")\n"
      ],
      "metadata": {
        "id": "OauTGJJ1nhdt"
      },
      "execution_count": null,
      "outputs": []
    },
    {
      "cell_type": "markdown",
      "source": [
        "### Problem Solving Reverse a Linked List"
      ],
      "metadata": {
        "id": "opRA3y2ORIqe"
      }
    },
    {
      "cell_type": "code",
      "source": [
        "def reverse():\n",
        "    t = int(input())\n",
        "    n = int(input(\"Masukkan panjang list: \"))\n",
        "    myList = []\n",
        "    for i in range(n):\n",
        "        num = int(input(f\"Masukkan elemen list ke- {i+1} : \"))\n",
        "        myList.append(num)\n",
        "    return sorted(myList, reverse=True)\n",
        "\n",
        "if __name__ == \"__main__\":\n",
        "  results = reverse()\n",
        "  print(results)"
      ],
      "metadata": {
        "colab": {
          "base_uri": "https://localhost:8080/"
        },
        "id": "zPlg2ASgRMLC",
        "outputId": "d4577dd2-0ebb-4a4b-d088-8343817aed15"
      },
      "execution_count": null,
      "outputs": [
        {
          "output_type": "stream",
          "name": "stdout",
          "text": [
            "1\n",
            "Masukkan panjang list: 5\n",
            "Masukkan elemen list ke- 1 : 1\n",
            "Masukkan elemen list ke- 2 : 2\n",
            "Masukkan elemen list ke- 3 : 3\n",
            "Masukkan elemen list ke- 4 : 4\n",
            "Masukkan elemen list ke- 5 : 5\n",
            "[5, 4, 3, 2, 1] "
          ]
        }
      ]
    },
    {
      "cell_type": "code",
      "source": [
        "#!/bin/python3\n",
        "\n",
        "import math\n",
        "import os\n",
        "import random\n",
        "import re\n",
        "import sys\n",
        "\n",
        "class SinglyLinkedListNode:\n",
        "    def __init__(self, node_data):\n",
        "        self.data = node_data\n",
        "        self.next = None\n",
        "\n",
        "class SinglyLinkedList:\n",
        "    def __init__(self):\n",
        "        self.head = None\n",
        "        self.tail = None\n",
        "\n",
        "    def insert_node(self, node_data):\n",
        "        node = SinglyLinkedListNode(node_data)\n",
        "\n",
        "        if not self.head:\n",
        "            self.head = node\n",
        "        else:\n",
        "            self.tail.next = node\n",
        "\n",
        "\n",
        "        self.tail = node\n",
        "\n",
        "def print_singly_linked_list(node, sep, fptr):\n",
        "    while node:\n",
        "        fptr.write(str(node.data))\n",
        "\n",
        "        node = node.next\n",
        "\n",
        "        if node:\n",
        "            fptr.write(sep)\n",
        "\n",
        "# _______________________TYPE SYNTAX_______________________\n",
        "def reverse(llist):\n",
        "    nxt = None\n",
        "    while llist:\n",
        "        tmp = llist.next\n",
        "        llist.next = nxt\n",
        "        nxt = llist\n",
        "        llist = tmp\n",
        "    return nxt\n",
        "\n",
        "\n",
        "# -----------------------------------------------------------\n",
        "if __name__ == '__main__':\n",
        "    fptr = open(os.environ['OUTPUT_PATH'], 'w')\n",
        "\n",
        "    tests = int(input())\n",
        "\n",
        "    for tests_itr in range(tests):\n",
        "        llist_count = int(input())\n",
        "\n",
        "        llist = SinglyLinkedList()\n",
        "\n",
        "        for _ in range(llist_count):\n",
        "            llist_item = int(input())\n",
        "            llist.insert_node(llist_item)\n",
        "\n",
        "        llist1 = reverse(llist.head)\n",
        "\n",
        "        print_singly_linked_list(llist1, ' ', fptr)\n",
        "        fptr.write('\\n')\n",
        "\n",
        "    fptr.close()"
      ],
      "metadata": {
        "id": "brAGP9yHRNMI"
      },
      "execution_count": null,
      "outputs": []
    },
    {
      "cell_type": "markdown",
      "source": [
        "### String Formatting"
      ],
      "metadata": {
        "id": "bZP7jSXjnooq"
      }
    },
    {
      "cell_type": "code",
      "source": [
        "name = '_self.daily'\n",
        "print('Hello %s' % name)"
      ],
      "metadata": {
        "colab": {
          "base_uri": "https://localhost:8080/"
        },
        "id": "BMZlTlWvnZ35",
        "outputId": "5afc3648-6781-4818-84f6-7e7aab77bca8"
      },
      "execution_count": null,
      "outputs": [
        {
          "output_type": "stream",
          "name": "stdout",
          "text": [
            "Hello _self.daily\n"
          ]
        }
      ]
    },
    {
      "cell_type": "code",
      "source": [
        "name = \"Python Enthusiast\"\n",
        "greetings = \"How Are You?\"\n",
        "print('Hello %s %s' % (name,greetings))\n",
        "print(f'Hello, {name} {greetings}')\n",
        "print(\"Hello, {1} {0}\".format(name, greetings))\n",
        "print(\"Hello, {0} {1}\".format(name, greetings))"
      ],
      "metadata": {
        "colab": {
          "base_uri": "https://localhost:8080/"
        },
        "id": "GkVGQYeQnrPB",
        "outputId": "8247ffb3-c521-4563-d80d-dfa8f0e37af7"
      },
      "execution_count": null,
      "outputs": [
        {
          "output_type": "stream",
          "name": "stdout",
          "text": [
            "Hello Python Enthusiast How Are You?\n",
            "Hello, Python Enthusiast How Are You?\n",
            "Hello, How Are You? Python Enthusiast\n",
            "Hello, Python Enthusiast How Are You?\n"
          ]
        }
      ]
    },
    {
      "cell_type": "code",
      "source": [
        "name = '_self.daily'\n",
        "print(f'Hello, {name}')"
      ],
      "metadata": {
        "colab": {
          "base_uri": "https://localhost:8080/"
        },
        "id": "wTE1q0QboAXc",
        "outputId": "d9f57e8e-a6d3-43c6-b17b-df2a96164773"
      },
      "execution_count": null,
      "outputs": [
        {
          "output_type": "stream",
          "name": "stdout",
          "text": [
            "Hello, _self.daily\n"
          ]
        }
      ]
    },
    {
      "cell_type": "code",
      "source": [
        "nama = \"_self.daily\"\n",
        "username = \"@_self.daily\"\n",
        "\n",
        "print(f\"Hai, saya {nama}, username saya \\\"{username}\\\"\")\n",
        "print(f'Hai, saya {nama}, username saya \"{username}\"')"
      ],
      "metadata": {
        "colab": {
          "base_uri": "https://localhost:8080/"
        },
        "id": "qDtBJjMwVVNv",
        "outputId": "2d455e1a-3ff9-4378-8133-977c51fd421b"
      },
      "execution_count": null,
      "outputs": [
        {
          "output_type": "stream",
          "name": "stdout",
          "text": [
            "Hai, saya _self.daily, username saya \"@_self.daily\"\n",
            "Hai, saya _self.daily, username saya \"@_self.daily\"\n"
          ]
        }
      ]
    },
    {
      "cell_type": "code",
      "source": [
        "myString = '\"Hello, world!\"'\n",
        "\n",
        "print(\"Let's say, \", myString)"
      ],
      "metadata": {
        "colab": {
          "base_uri": "https://localhost:8080/"
        },
        "id": "xf73kaqpiTIv",
        "outputId": "f6a2362a-dcb4-4b29-b567-26d9543e70be"
      },
      "execution_count": null,
      "outputs": [
        {
          "output_type": "stream",
          "name": "stdout",
          "text": [
            "Let's say,  \"Hello, world!\"\n"
          ]
        }
      ]
    },
    {
      "cell_type": "markdown",
      "source": [
        "### Number Formatting"
      ],
      "metadata": {
        "id": "cGlkXTecXti2"
      }
    },
    {
      "cell_type": "code",
      "source": [
        "price, stock, discount = (3999999.999, 42, 0.04)\n",
        "\n",
        "print(f'{price:.2f}')\n",
        "print('{:.2f}'.format(price))\n",
        "print('{:.0%}'.format(discount))\n",
        "print('{:.2%}'.format(discount))\n",
        "print('{:06d}'.format(stock))\n",
        "print('{:06.2f}'.format(stock))"
      ],
      "metadata": {
        "colab": {
          "base_uri": "https://localhost:8080/"
        },
        "id": "_2r0cEtEXvWb",
        "outputId": "82096bad-0d74-4ed0-9279-e6dcd78386f6"
      },
      "execution_count": null,
      "outputs": [
        {
          "output_type": "stream",
          "name": "stdout",
          "text": [
            "4000000.00\n",
            "4000000.00\n",
            "4%\n",
            "4.00%\n",
            "000042\n",
            "042.00\n"
          ]
        }
      ]
    },
    {
      "cell_type": "markdown",
      "source": [
        "### Datetime Formatting"
      ],
      "metadata": {
        "id": "UAbK07z_oRDF"
      }
    },
    {
      "cell_type": "code",
      "source": [
        "from datetime import datetime, date\n",
        "date = datetime(2024, 1, 15)\n",
        "dateNow = datetime.now()\n",
        "print(f'{date:%m/%d/%Y}')\n",
        "print(f'{dateNow}')\n",
        "print(f'{dateNow:%m/%d/%Y}')"
      ],
      "metadata": {
        "colab": {
          "base_uri": "https://localhost:8080/"
        },
        "id": "6FC7iojSoS1H",
        "outputId": "dcea218d-1e14-4596-d1b8-8c9d007824ae"
      },
      "execution_count": null,
      "outputs": [
        {
          "output_type": "stream",
          "name": "stdout",
          "text": [
            "01/15/2024\n",
            "2024-02-11 05:28:29.298706\n",
            "02/11/2024\n"
          ]
        }
      ]
    },
    {
      "cell_type": "code",
      "source": [
        "from datetime import datetime\n",
        "\n",
        "today = datetime.now()\n",
        "\n",
        "# Menggunakan strftime()\n",
        "formatted_date = today.strftime('%A, %d %b %Y %H:%M:%S')\n",
        "print(formatted_date)\n",
        "\n",
        "# Menggunakan f-string\n",
        "print(f'{today:%A, %d %b %Y}')\n",
        "\n",
        "# Menggunakan metode .format()\n",
        "print('{:%A, %d %b %Y}'.format(today))\n",
        "\n",
        "\n"
      ],
      "metadata": {
        "colab": {
          "base_uri": "https://localhost:8080/"
        },
        "id": "jo6STvrbpFIu",
        "outputId": "ce69dc3b-1d30-47dd-a210-4ca2e7018377"
      },
      "execution_count": null,
      "outputs": [
        {
          "output_type": "stream",
          "name": "stdout",
          "text": [
            "Monday, 12 Feb 2024 10:20:54\n",
            "Monday, 12 Feb 2024\n",
            "Monday, 12 Feb 2024\n"
          ]
        }
      ]
    },
    {
      "cell_type": "code",
      "source": [
        "from datetime import datetime, date\n",
        "\n",
        "dateNow = datetime.now()\n",
        "today = date.today()\n",
        "\n",
        "print(dateNow)\n",
        "print(today)\n"
      ],
      "metadata": {
        "colab": {
          "base_uri": "https://localhost:8080/"
        },
        "id": "8XHKd5uiqZnT",
        "outputId": "8c9838c0-bd11-4abf-ebee-09e4ab91d9e4"
      },
      "execution_count": null,
      "outputs": [
        {
          "output_type": "stream",
          "name": "stdout",
          "text": [
            "2024-02-12 09:56:10.779375\n",
            "2024-02-12\n"
          ]
        }
      ]
    },
    {
      "cell_type": "markdown",
      "source": [
        "### Generally Formatting"
      ],
      "metadata": {
        "id": "C37Mxo8E0Yn8"
      }
    },
    {
      "cell_type": "code",
      "source": [
        "namaDepan = \"_self\"\n",
        "namaBelakang = \"daily\"\n",
        "\n",
        "print(namaDepan, end=\".\")\n",
        "print(namaBelakang)\n",
        "\n",
        "print(namaDepan)\n",
        "print(namaBelakang)"
      ],
      "metadata": {
        "colab": {
          "base_uri": "https://localhost:8080/"
        },
        "id": "LRHfWa830ahV",
        "outputId": "3cfef685-7f42-419a-f9d4-c98a1fea2a28"
      },
      "execution_count": null,
      "outputs": [
        {
          "output_type": "stream",
          "name": "stdout",
          "text": [
            "_self.daily\n",
            "_self\n",
            "daily\n"
          ]
        }
      ]
    },
    {
      "cell_type": "code",
      "source": [
        "#penggunaan \\n ; \\t\n",
        "print(\"Nama\\t\\t_self.Daily\\nUsername\\t@_self.daily\")"
      ],
      "metadata": {
        "colab": {
          "base_uri": "https://localhost:8080/"
        },
        "id": "ir-n9y7Y1I7U",
        "outputId": "bb7fa84e-a500-4dcf-a353-dc3a32b085f0"
      },
      "execution_count": null,
      "outputs": [
        {
          "output_type": "stream",
          "name": "stdout",
          "text": [
            "Nama\t\t_self.Daily\n",
            "Username\t@_self.daily\n"
          ]
        }
      ]
    },
    {
      "cell_type": "markdown",
      "source": [
        "### Hackerrank Case Introduction to Sets"
      ],
      "metadata": {
        "id": "MC4mLXySABHk"
      }
    },
    {
      "cell_type": "code",
      "source": [
        "def average(array):\n",
        "    setList = set(array)\n",
        "    meanList = sum(setList)/len(setList)\n",
        "    meanList_formatted = \"{:.3f}\".format(meanList)\n",
        "    meanList_rounded = round(meanList, 3)\n",
        "    return meanList, meanList_formatted, meanList_rounded\n",
        "\n",
        "if __name__ == \"__main__\":\n",
        "  arr = [12,12,23,45,56, 34, 64, 33, 21, 11]\n",
        "  results = average(arr)\n",
        "  print(results)\n",
        "  print(type(results[1]))\n",
        "  print(type(results[2]))"
      ],
      "metadata": {
        "colab": {
          "base_uri": "https://localhost:8080/"
        },
        "id": "Fi8XJFg9AHoF",
        "outputId": "8f25e1ca-61b8-4293-ec20-0098699b36e2"
      },
      "execution_count": null,
      "outputs": [
        {
          "output_type": "stream",
          "name": "stdout",
          "text": [
            "(33.22222222222222, '33.222', 33.222)\n",
            "<class 'str'>\n",
            "<class 'float'>\n"
          ]
        }
      ]
    },
    {
      "cell_type": "markdown",
      "source": [
        "### Systemmatic Difference"
      ],
      "metadata": {
        "id": "21Ak4N7vJDqE"
      }
    },
    {
      "cell_type": "code",
      "source": [
        "def symmetricDifference():\n",
        "    lenA = input()\n",
        "    listA = set(list(map(int, input().split())))\n",
        "    lenB = input()\n",
        "    listB = set(list(map(int,input().split())))\n",
        "\n",
        "    results = []\n",
        "    for i in listA:\n",
        "      if i not in listB:\n",
        "        results.append(i)\n",
        "    for i in listB:\n",
        "      if i not in listA:\n",
        "        results.append(i)\n",
        "\n",
        "    return sorted(results)\n",
        "\n",
        "if __name__ == \"__main__\":\n",
        "    results = symmetricDifference()\n",
        "    for i in results:\n",
        "      print(i)"
      ],
      "metadata": {
        "colab": {
          "base_uri": "https://localhost:8080/"
        },
        "id": "ywyIz90AJC1k",
        "outputId": "636642a9-00cf-4a4c-bfc3-d025b86e21a9"
      },
      "execution_count": null,
      "outputs": [
        {
          "output_type": "stream",
          "name": "stdout",
          "text": [
            "4\n",
            "2 4 5 9\n",
            "4\n",
            "2 4 11 12\n",
            "5\n",
            "9\n",
            "11\n",
            "12\n"
          ]
        }
      ]
    },
    {
      "cell_type": "markdown",
      "source": [
        "### Python Calendar"
      ],
      "metadata": {
        "id": "VSmRy9osGFQ0"
      }
    },
    {
      "cell_type": "code",
      "source": [
        "import calendar\n",
        "\n",
        "print(calendar.calendar(2024))"
      ],
      "metadata": {
        "colab": {
          "base_uri": "https://localhost:8080/"
        },
        "id": "EO_6YUO9GDM2",
        "outputId": "0d827874-375e-4fad-b848-a5213f7667f3"
      },
      "execution_count": null,
      "outputs": [
        {
          "output_type": "stream",
          "name": "stdout",
          "text": [
            "                                  2024\n",
            "\n",
            "      January                   February                   March\n",
            "Mo Tu We Th Fr Sa Su      Mo Tu We Th Fr Sa Su      Mo Tu We Th Fr Sa Su\n",
            " 1  2  3  4  5  6  7                1  2  3  4                   1  2  3\n",
            " 8  9 10 11 12 13 14       5  6  7  8  9 10 11       4  5  6  7  8  9 10\n",
            "15 16 17 18 19 20 21      12 13 14 15 16 17 18      11 12 13 14 15 16 17\n",
            "22 23 24 25 26 27 28      19 20 21 22 23 24 25      18 19 20 21 22 23 24\n",
            "29 30 31                  26 27 28 29               25 26 27 28 29 30 31\n",
            "\n",
            "       April                      May                       June\n",
            "Mo Tu We Th Fr Sa Su      Mo Tu We Th Fr Sa Su      Mo Tu We Th Fr Sa Su\n",
            " 1  2  3  4  5  6  7             1  2  3  4  5                      1  2\n",
            " 8  9 10 11 12 13 14       6  7  8  9 10 11 12       3  4  5  6  7  8  9\n",
            "15 16 17 18 19 20 21      13 14 15 16 17 18 19      10 11 12 13 14 15 16\n",
            "22 23 24 25 26 27 28      20 21 22 23 24 25 26      17 18 19 20 21 22 23\n",
            "29 30                     27 28 29 30 31            24 25 26 27 28 29 30\n",
            "\n",
            "        July                     August                  September\n",
            "Mo Tu We Th Fr Sa Su      Mo Tu We Th Fr Sa Su      Mo Tu We Th Fr Sa Su\n",
            " 1  2  3  4  5  6  7                1  2  3  4                         1\n",
            " 8  9 10 11 12 13 14       5  6  7  8  9 10 11       2  3  4  5  6  7  8\n",
            "15 16 17 18 19 20 21      12 13 14 15 16 17 18       9 10 11 12 13 14 15\n",
            "22 23 24 25 26 27 28      19 20 21 22 23 24 25      16 17 18 19 20 21 22\n",
            "29 30 31                  26 27 28 29 30 31         23 24 25 26 27 28 29\n",
            "                                                    30\n",
            "\n",
            "      October                   November                  December\n",
            "Mo Tu We Th Fr Sa Su      Mo Tu We Th Fr Sa Su      Mo Tu We Th Fr Sa Su\n",
            "    1  2  3  4  5  6                   1  2  3                         1\n",
            " 7  8  9 10 11 12 13       4  5  6  7  8  9 10       2  3  4  5  6  7  8\n",
            "14 15 16 17 18 19 20      11 12 13 14 15 16 17       9 10 11 12 13 14 15\n",
            "21 22 23 24 25 26 27      18 19 20 21 22 23 24      16 17 18 19 20 21 22\n",
            "28 29 30 31               25 26 27 28 29 30         23 24 25 26 27 28 29\n",
            "                                                    30 31\n",
            "\n"
          ]
        }
      ]
    },
    {
      "cell_type": "markdown",
      "source": [
        "### Case Python Calendar Module to get day_name"
      ],
      "metadata": {
        "id": "Jn1cBjTIJAgA"
      }
    },
    {
      "cell_type": "code",
      "source": [
        "# Without calendar, but used datetime\n",
        "from datetime import datetime\n",
        "\n",
        "mm, dd, yyyy = input('Masukkan tanggal \"MM/DD/YYYY\": ' ).split('/')\n",
        "date_string = f'{mm}/{dd}/{yyyy}'\n",
        "date_object = datetime.strptime(date_string, \"%m/%d/%Y\")\n",
        "\n",
        "day_name = date_object.strftime('%A')\n",
        "\n",
        "print(day_name.upper())"
      ],
      "metadata": {
        "colab": {
          "base_uri": "https://localhost:8080/"
        },
        "id": "tN0AQnwEI-KH",
        "outputId": "b4108082-2620-49c6-8336-05b7d4b5cdcd"
      },
      "execution_count": 1,
      "outputs": [
        {
          "output_type": "stream",
          "name": "stdout",
          "text": [
            "Masukkan tanggal \"MM/DD/YYYY\": 05/04/2001\n",
            "FRIDAY\n"
          ]
        }
      ]
    },
    {
      "cell_type": "code",
      "source": [
        "# Used calendar with and without datetime\n",
        "import calendar\n",
        "from datetime import datetime\n",
        "\n",
        "mm, dd, yyyy = map(int, input('Masukkan tanggal \"MM/DD/YYYY\": ' ).split('/'))\n",
        "\n",
        "# Dapatkan nama hari menggunakan modul calendar\n",
        "day_name_without = calendar.day_name[calendar.weekday(yyyy, mm, dd)]\n",
        "\n",
        "\n",
        "date_string = f'{mm}/{dd}/{yyyy}'\n",
        "date_object = datetime.strptime(date_string, \"%m/%d/%Y\")\n",
        "day_name_with = calendar.day_name[date_object.weekday()]\n",
        "\n",
        "print('Output'.center(20, '-'))\n",
        "print('Without Datetime: ', day_name_without.upper())\n",
        "print('With Datetime: ', day_name_with.upper())"
      ],
      "metadata": {
        "colab": {
          "base_uri": "https://localhost:8080/"
        },
        "id": "5ZNr4fnWKKZv",
        "outputId": "b2d16e9b-e894-4471-de95-3d85a21a3123"
      },
      "execution_count": null,
      "outputs": [
        {
          "output_type": "stream",
          "name": "stdout",
          "text": [
            "Masukkan tanggal \"MM/DD/YYYY\": 05/04/2001\n",
            "-------Output-------\n",
            "Without Datetime:  FRIDAY\n",
            "With Datetime:  FRIDAY\n"
          ]
        }
      ]
    },
    {
      "cell_type": "markdown",
      "source": [
        "### Get error in Python"
      ],
      "metadata": {
        "id": "kT3URzwWXz3O"
      }
    },
    {
      "cell_type": "code",
      "source": [
        "try:\n",
        "  print(2/0)\n",
        "except ZeroDivisionError as e:\n",
        "  print('Error code: ', e)"
      ],
      "metadata": {
        "colab": {
          "base_uri": "https://localhost:8080/"
        },
        "id": "9B9d_TajX2Oq",
        "outputId": "aeca0056-684a-4e01-bad3-0899cbb993fc"
      },
      "execution_count": 2,
      "outputs": [
        {
          "output_type": "stream",
          "name": "stdout",
          "text": [
            "Error code:  division by zero\n"
          ]
        }
      ]
    },
    {
      "cell_type": "code",
      "source": [
        "try:\n",
        "  print(2/0)\n",
        "except Exception as e:\n",
        "  print('Error code: ', e)"
      ],
      "metadata": {
        "colab": {
          "base_uri": "https://localhost:8080/"
        },
        "id": "jwrjzF0bYcxr",
        "outputId": "48bd32f8-d6f7-444f-b809-4aec24a7a305"
      },
      "execution_count": 6,
      "outputs": [
        {
          "output_type": "stream",
          "name": "stdout",
          "text": [
            "Error code:  division by zero\n"
          ]
        }
      ]
    },
    {
      "cell_type": "code",
      "source": [
        "# Enter your code here. Read input from STDIN. Print output to STDOUT\n",
        "def errorHandling():\n",
        "    testNum = int(input())\n",
        "    for i in range(testNum):\n",
        "        a, b = input().split()\n",
        "        char = None\n",
        "        if not a.isdigit():\n",
        "            char = a\n",
        "        if not b.isdigit():\n",
        "            char = b\n",
        "        try:\n",
        "            a = int(a)\n",
        "            b = int(b)\n",
        "            print(a // b)\n",
        "        except ZeroDivisionError:\n",
        "            print('Error Code: integer division or modulo by zero')\n",
        "        except ValueError:\n",
        "            print(f\"Error Code: invalid literal for int() with base 10: '{char}'\")\n",
        "        except Exception as e:\n",
        "            print(f\"Error: Terjadi kesalahan yang tidak terduga - {e}\")\n",
        "\n",
        "if __name__ == \"__main__\":\n",
        "    errorHandling()"
      ],
      "metadata": {
        "colab": {
          "base_uri": "https://localhost:8080/"
        },
        "id": "ZOTgcbETZiWR",
        "outputId": "cc02a071-b9ef-4817-c24f-1995fad7771d"
      },
      "execution_count": 8,
      "outputs": [
        {
          "output_type": "stream",
          "name": "stdout",
          "text": [
            "3\n",
            "1 0\n",
            "Error Code: integer division or modulo by zero\n",
            "2 $\n",
            "Error Code: invalid literal for int() with base 10: '$'\n",
            "3 &\n",
            "Error Code: invalid literal for int() with base 10: '&'\n"
          ]
        }
      ]
    },
    {
      "cell_type": "markdown",
      "source": [
        "### regex check"
      ],
      "metadata": {
        "id": "Uy17reIhPRtE"
      }
    },
    {
      "cell_type": "code",
      "source": [
        "import re\n",
        "\n",
        "s = ['.*\\+', '.*+']\n",
        "\n",
        "for i in s:\n",
        "    try:\n",
        "        re.compile(i)\n",
        "        print(f\"{i} is a valid regex\")\n",
        "    except re.error:\n",
        "        print(f\"{i} is an invalid regex\")"
      ],
      "metadata": {
        "colab": {
          "base_uri": "https://localhost:8080/"
        },
        "id": "DtyWNqN2PUmz",
        "outputId": "f48f8ad9-81a5-427d-dd73-0f747e5e8160"
      },
      "execution_count": 5,
      "outputs": [
        {
          "output_type": "stream",
          "name": "stdout",
          "text": [
            ".*\\+ is a valid regex\n",
            ".*+ is an invalid regex\n"
          ]
        }
      ]
    },
    {
      "cell_type": "code",
      "source": [
        "# Enter your code here. Read input from STDIN. Print output to STDOUT\n",
        "import re\n",
        "def regexCek():\n",
        "    numCek = int(input())\n",
        "    if 0< numCek < 100:\n",
        "        for i in range(numCek):\n",
        "            s = input()\n",
        "            try:\n",
        "                re.compile(s)\n",
        "                print(True)\n",
        "            except re.error:\n",
        "                print(False)\n",
        "\n",
        "if __name__ == \"__main__\":\n",
        "    regexCek()"
      ],
      "metadata": {
        "colab": {
          "base_uri": "https://localhost:8080/"
        },
        "id": "aCj5V1wzQTD3",
        "outputId": "8da52a8d-f235-4317-dc80-35e1e7469c72"
      },
      "execution_count": 9,
      "outputs": [
        {
          "output_type": "stream",
          "name": "stdout",
          "text": [
            "2\n",
            ".*\\+\n",
            "True\n",
            ".*+\n",
            "False\n"
          ]
        }
      ]
    }
  ]
}